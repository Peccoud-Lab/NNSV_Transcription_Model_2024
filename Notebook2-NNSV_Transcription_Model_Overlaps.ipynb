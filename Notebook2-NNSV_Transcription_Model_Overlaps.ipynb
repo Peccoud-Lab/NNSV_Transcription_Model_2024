{
 "cells": [
  {
   "cell_type": "code",
   "execution_count": 115,
   "id": "59ab452e",
   "metadata": {},
   "outputs": [],
   "source": [
    "import numpy as np\n",
    "from scipy.optimize import minimize\n",
    "import matplotlib.pyplot as plt\n",
    "import itertools\n",
    "import pandas as pd\n",
    "import scipy\n",
    "from tqdm.notebook import tqdm  "
   ]
  },
  {
   "cell_type": "code",
   "execution_count": 58,
   "id": "97990f90",
   "metadata": {},
   "outputs": [
    {
     "data": {
      "text/plain": [
       "array([[21523, 18363, 18354],\n",
       "       [17765, 14929, 14681],\n",
       "       [ 7910,  6497,  7076],\n",
       "       [ 8710,  7052,  7234],\n",
       "       [ 8470,  7248,  6867],\n",
       "       [ 5809,  4852,  4782],\n",
       "       [ 5530,  4089,  5031],\n",
       "       [ 3802,  2929,  2997],\n",
       "       [ 3191,  2742,  2665],\n",
       "       [   33,    12,    29]])"
      ]
     },
     "execution_count": 58,
     "metadata": {},
     "output_type": "execute_result"
    }
   ],
   "source": [
    "RSV_data = np.array([[21523, 18363, 18354],\n",
    "                     [17765, 14929, 14681],\n",
    "                     [ 7910,  6497,  7076],\n",
    "                     [ 8710,  7052,  7234],\n",
    "                     [ 8470,  7248,  6867],\n",
    "                     [ 5809,  4852,  4782],\n",
    "                     [ 5530,  4089,  5031],\n",
    "                     [ 3802,  2929,  2997],\n",
    "                     [ 3191,  2742,  2665],\n",
    "                     [   33,    12,    29]])\n",
    "RSV_data"
   ]
  },
  {
   "cell_type": "code",
   "execution_count": 59,
   "id": "51afc0f7",
   "metadata": {},
   "outputs": [
    {
     "data": {
      "text/plain": [
       "array([[3322,  651],\n",
       "       [3013,  663],\n",
       "       [2345,  435],\n",
       "       [1697,  482],\n",
       "       [1079,  254],\n",
       "       [ 584,  180],\n",
       "       [ 228,   43]])"
      ]
     },
     "execution_count": 59,
     "metadata": {},
     "output_type": "execute_result"
    }
   ],
   "source": [
    "EBOV_data = np.array([[3322,3013,2345,1697,1079,584,228], # Ebola Gradient\n",
    "                      [651,663,435,482,254,180,43]]).T\n",
    "EBOV_data"
   ]
  },
  {
   "cell_type": "code",
   "execution_count": 60,
   "id": "f7a80e42",
   "metadata": {},
   "outputs": [
    {
     "data": {
      "text/plain": [
       "array([[851, 108],\n",
       "       [688, 103],\n",
       "       [493,  57],\n",
       "       [388,  59],\n",
       "       [336,  44],\n",
       "       [211,  30],\n",
       "       [ 48,   5]])"
      ]
     },
     "execution_count": 60,
     "metadata": {},
     "output_type": "execute_result"
    }
   ],
   "source": [
    "MV_data = np.array([[851,688,493,388,336,211,48], # Marbug Gradient\n",
    "                      [108,103,57,59,44,30,5]]).T\n",
    "MV_data"
   ]
  },
  {
   "cell_type": "code",
   "execution_count": 61,
   "id": "cf88faa1",
   "metadata": {},
   "outputs": [],
   "source": [
    "# define list of virus names\n",
    "viruses = [\"RSV\", \"EBOV\", \"MV\"]\n",
    "\n",
    "# define list of virus genes and their orders\n",
    "virus_gene_names = [ [\"NS1\", \"NS2\", \"N\", \"P\", \"M\", \"SH\", \"G\", \"F\", \"M2\", \"L\"],\n",
    "                     [\"NP\", \"VP35\", \"VP40\", \"GP\", \"VP30\", \"VP24\", \"L\"],\n",
    "                     [\"NP\", \"VP35\", \"VP40\", \"GP\", \"VP30\", \"VP24\", \"L\"]]\n",
    "# define list of mean expression of each gene for each virus\n",
    "virus_data = [RSV_data, EBOV_data, MV_data]\n",
    "\n",
    "\n"
   ]
  },
  {
   "cell_type": "code",
   "execution_count": 62,
   "id": "175a17e5",
   "metadata": {},
   "outputs": [],
   "source": [
    "RSV_genome_pos = np.array([576,1098,2327,3242,4209,4628,5595,7550,8557,15067])\n",
    "RSV_genome_pos = np.array(RSV_genome_pos - np.min(RSV_genome_pos))\n",
    "RSV_genome_pos\n",
    "\n",
    "EBOV_genome_pos =  np.array([3026,4407,5894,8305,9740,11518,18282])\n",
    "EBOV_genome_pos = np.array(EBOV_genome_pos - np.min(EBOV_genome_pos))\n",
    "EBOV_genome_pos\n",
    "\n",
    "MV_genome_pos =  np.array([2844,4410,5819,8670,10016,11285,19037])\n",
    "MV_genome_pos = np.array(MV_genome_pos - np.min(MV_genome_pos))\n",
    "MV_genome_pos\n",
    "\n",
    "\n",
    "virus_genome_pos = [RSV_genome_pos, EBOV_genome_pos, MV_genome_pos]\n"
   ]
  },
  {
   "cell_type": "code",
   "execution_count": 63,
   "id": "0d311b34",
   "metadata": {},
   "outputs": [],
   "source": [
    "overlaps = [[9],\n",
    "            [2, 4, 6],\n",
    "            [5]]"
   ]
  },
  {
   "cell_type": "code",
   "execution_count": 64,
   "id": "540621f7",
   "metadata": {},
   "outputs": [],
   "source": [
    "# objective function for fitting model\n",
    "\n",
    "def obj_fun(x):\n",
    "    p = x[0]\n",
    "    p_trans = x[1]\n",
    "    pred = np.array([p**x * p_trans for x in genome_pos])\n",
    "    for t in ov:\n",
    "        pred[ov] = pred[ov] * (1-p_trans)\n",
    "    lambda_pred = pred/np.sum(pred)\n",
    "    LL = 0\n",
    "    if len(dv.shape) == 1:\n",
    "        LL += np.sum(scipy.stats.poisson.logpmf(dv, lambda_pred))\n",
    "        if np.isnan(LL):\n",
    "            return np.inf\n",
    "        return LL * -1\n",
    "    else:\n",
    "        for i in range(dv.shape[1]):\n",
    "            LL += np.sum(scipy.stats.poisson.logpmf(dv[:,i], lambda_pred))\n",
    "        if np.isnan(LL):\n",
    "            return np.inf\n",
    "        return LL * -1\n",
    "    "
   ]
  },
  {
   "cell_type": "code",
   "execution_count": 65,
   "id": "e50d2dfd",
   "metadata": {},
   "outputs": [
    {
     "name": "stderr",
     "output_type": "stream",
     "text": [
      "<ipython-input-64-a38045262d91>:9: RuntimeWarning: invalid value encountered in divide\n",
      "  lambda_pred = pred/np.sum(pred)\n",
      "/Users/connorking/opt/anaconda3/lib/python3.8/site-packages/scipy/optimize/_numdiff.py:576: RuntimeWarning: invalid value encountered in subtract\n",
      "  df = fun(x) - f0\n"
     ]
    },
    {
     "name": "stdout",
     "output_type": "stream",
     "text": [
      "0\n",
      "10000\n",
      "20000\n",
      "30000\n",
      "40000\n",
      "50000\n",
      "60000\n",
      "70000\n",
      "80000\n",
      "90000\n",
      "100000\n",
      "110000\n",
      "120000\n",
      "130000\n",
      "140000\n",
      "150000\n",
      "160000\n",
      "170000\n",
      "180000\n",
      "190000\n",
      "RSV\n",
      "0\n",
      "10000\n",
      "20000\n",
      "30000\n",
      "40000\n",
      "50000\n",
      "60000\n",
      "70000\n",
      "80000\n",
      "90000\n",
      "100000\n",
      "110000\n",
      "120000\n",
      "130000\n",
      "140000\n",
      "150000\n",
      "160000\n",
      "170000\n",
      "180000\n",
      "190000\n",
      "EBOV\n",
      "0\n",
      "10000\n",
      "20000\n",
      "30000\n",
      "40000\n",
      "50000\n",
      "60000\n",
      "70000\n",
      "80000\n",
      "90000\n",
      "100000\n",
      "110000\n",
      "120000\n",
      "130000\n",
      "140000\n",
      "150000\n",
      "160000\n",
      "170000\n",
      "180000\n",
      "190000\n",
      "MV\n"
     ]
    }
   ],
   "source": [
    "# iterate through each virus and fit the model 100,000 times starting at random positions.\n",
    "\n",
    "all_fits = []\n",
    "all_funcs = []\n",
    "for j in range(len(viruses)):\n",
    "    fits = []\n",
    "    funcs = []\n",
    "    dv = np.array(virus_data[j])\n",
    "    ov = overlaps[j]\n",
    "    genome_pos = virus_genome_pos[j]\n",
    "    for i in range(200000):\n",
    "        res = minimize(obj_fun,( np.random.random(2) * np.array([0.5, 1]) ) + np.array([0.5, 0]), bounds = [[0.5, 1], [0, 1]], tol = 1e-20)\n",
    "        fits.append(res.x)\n",
    "        funcs.append(res.fun * -1)\n",
    "        if i % 10000 == 0:\n",
    "            print(i)\n",
    "    all_fits.append(fits)\n",
    "    all_funcs.append(funcs)\n",
    "    print(viruses[j])\n",
    "all_fits = np.array(all_fits)\n",
    "\n",
    "\n"
   ]
  },
  {
   "cell_type": "code",
   "execution_count": 66,
   "id": "8bc876b0",
   "metadata": {},
   "outputs": [],
   "source": [
    "# save fits and then generate and save a file with the \n",
    "# statistics assocaited with the top 100 fits for each virus\n",
    "\n",
    "for i in range(len(viruses)):\n",
    "    df = pd.concat( [pd.DataFrame(all_fits[i]) , pd.DataFrame(all_funcs[i])], axis = 1)\n",
    "    df.columns = [\"p(walk)\", \"ptransc\", \"Log Likelihood\"]\n",
    "    df.to_csv(f\"File3-All_Parameter_Fits_overlaps/{viruses[i]}_fits.csv\")\n",
    "    df = df.loc[np.array(df.iloc[:,-1]) > np.quantile(np.array(df.iloc[:,-1]), 1-.0005)]\n",
    "    df_stats = pd.DataFrame([np.mean(df.iloc[:,:-1], axis = 0), np.std(df.iloc[:,:-1], axis = 0), np.max(df.iloc[:,:-1], axis = 0), np.min(df.iloc[:,:-1], axis = 0), df[df.iloc[:,-1] == np.max(df.iloc[:,-1])].iloc[0,:-1]]).T\n",
    "    df_mse = pd.DataFrame(2*[df[df.iloc[:,-1] == np.max(df.iloc[:,-1])].iloc[0,-1]])\n",
    "    df_mse.index = [\"p(walk)\", \"ptransc\"]\n",
    "    df_stats = pd.concat([df_stats, df_mse], axis = 1 )\n",
    "    df_stats.columns = [\"Mean of Top 100 Fit Estimates\", \"Std of Top 100 Fit Estimates\", \"Max of Top 100 Fit Estimates\", \"Min of Top 100 Fit Estimates\", \"Best Fit Estimate\", \"Best Fit Log Likelihood\"]\n",
    "    df_stats.index = [\"p(walk)\", \"ptransc\"]\n",
    "    df_stats.to_csv(f\"File4-Top_100_Fit_Stats_overlaps/{viruses[i]}_fits.csv\")\n",
    "    \n",
    "    \n"
   ]
  },
  {
   "cell_type": "code",
   "execution_count": 67,
   "id": "289e53f2",
   "metadata": {},
   "outputs": [],
   "source": [
    "# Get the best fit parameter\n",
    "\n",
    "dfs = pd.DataFrame()\n",
    "for i in range(len(viruses)):\n",
    "    df = pd.read_csv((f\"File4-Top_100_Fit_Stats_overlaps/{viruses[i]}_fits.csv\"))\n",
    "    dfs = pd.concat([dfs, df])\n",
    "best_fit_pars = dfs.iloc[:,-2]\n",
    "best_fit_pars = [best_fit_pars[0:2], best_fit_pars[2:4], best_fit_pars[4:6], best_fit_pars[6:8]]\n",
    "log_likeli = dfs.iloc[::2,-1]\n"
   ]
  },
  {
   "cell_type": "code",
   "execution_count": 76,
   "id": "4df972c3",
   "metadata": {
    "scrolled": true
   },
   "outputs": [
    {
     "data": {
      "image/png": "[encoded data removed]",
      "text/plain": [
       "<Figure size 720x432 with 1 Axes>"
      ]
     },
     "metadata": {
      "needs_background": "light"
     },
     "output_type": "display_data"
    },
    {
     "data": {
      "image/png": "[encoded data removed]",
      "text/plain": [
       "<Figure size 720x432 with 1 Axes>"
      ]
     },
     "metadata": {
      "needs_background": "light"
     },
     "output_type": "display_data"
    },
    {
     "data": {
      "image/png": "[encoded data removed]",
      "text/plain": [
       "<Figure size 720x432 with 1 Axes>"
      ]
     },
     "metadata": {
      "needs_background": "light"
     },
     "output_type": "display_data"
    }
   ],
   "source": [
    "# Generate barplots of observed gradients and predicted gradients\n",
    "\n",
    "for i in range(len(viruses)):\n",
    "    genome_pos = virus_genome_pos[i]    \n",
    "    pars = best_fit_pars[i]\n",
    "    ov = overlaps[i]\n",
    "    p = pars[0]\n",
    "    p_trans = pars[1]\n",
    "    pred = np.array([p**x * p_trans for x in genome_pos])\n",
    "    for t in ov:\n",
    "        pred[ov] = pred[ov] * (1-p_trans)\n",
    "    pred_norm = pred/np.sum(pred)    \n",
    "    categories = virus_gene_names[i]\n",
    "    indices = np.arange(len(categories))\n",
    "    # Create figure and axis\n",
    "    fig, ax = plt.subplots(figsize=(10, 6))\n",
    "    # Create bars\n",
    "    bar_width = 0.35\n",
    "    ax.set_title(f'{viruses[i]}', fontsize=28)\n",
    "    if len(virus_data[i].shape) == 1:\n",
    "        data_norm = virus_data[i]/np.sum(virus_data[i])\n",
    "        ax.bar(indices - bar_width/2, data_norm, width=bar_width, color='#0072B2', edgecolor='black', label='Observed Ratio')\n",
    "    else:\n",
    "        data_norm = virus_data[i]/np.sum(virus_data[i],axis=0)\n",
    "        ax.bar(indices - bar_width/2, np.mean(data_norm, axis = 1), width=bar_width, yerr= 2 * np.std(data_norm, axis = 1), color='#0072B2', edgecolor='black', label='Observed Ratio')\n",
    "    # Increase y-axis label size\n",
    "    ax.tick_params(axis='y', labelsize=18)\n",
    "    # Create bars for pred_norm\n",
    "    ax.bar(indices + bar_width/2, pred_norm, width=bar_width, color='red', edgecolor='black', label='Model Predictions')\n",
    "    # Set legend with improved positioning and styling\n",
    "    ax.legend(loc='best', fontsize=20, frameon=True, shadow=True)\n",
    "    # Set labels, title, and ticks\n",
    "    ax.set_xticks(indices)\n",
    "    plt.ylim([0,.52])\n",
    "    \n",
    "    mse = log_likeli.iloc[i]\n",
    "    ax.set_xticklabels(categories, fontsize=20)\n",
    "    ax.set_ylabel('Proportion of Total Viral mRNA', fontsize=20)\n",
    "    ax.set_xlabel('Gene', fontsize=20)\n",
    "    ax.grid(True, which='both', axis='y', linestyle='--', linewidth=0.5) \n",
    "    ax.text(.975, 0.725, 'Log Likelihood: {:.2E}'.format(mse) , transform=ax.transAxes, fontsize=30,\n",
    "            verticalalignment='top', horizontalalignment='right', bbox=dict(facecolor='white', alpha=0.8))\n",
    "    plt.tight_layout()\n",
    "    plt.savefig(f\"Figures/Fig3/{viruses[i]}_Gradients.svg\")\n",
    "    plt.show()   \n",
    "    \n",
    "    \n",
    "    "
   ]
  },
  {
   "cell_type": "code",
   "execution_count": 73,
   "id": "05276027",
   "metadata": {},
   "outputs": [
    {
     "data": {
      "text/plain": [
       "RSV     3912.598404\n",
       "EBOV    6197.334124\n",
       "MV      6303.990908\n",
       "Name: Best Fit Estimate, dtype: float64"
      ]
     },
     "execution_count": 73,
     "metadata": {},
     "output_type": "execute_result"
    }
   ],
   "source": [
    "dfs = pd.DataFrame()\n",
    "for i in range(len(viruses)):\n",
    "    df = pd.read_csv((f\"File4-Top_100_Fit_Stats_overlaps/{viruses[i]}_fits.csv\"))\n",
    "    dfs = pd.concat([dfs, df])\n",
    "    \n",
    "ind = [2 * [x] for x in viruses]\n",
    "inds = []\n",
    "\n",
    "for i in ind:\n",
    "    inds += i\n",
    "dfs.index = inds\n",
    "dfs = dfs.iloc[::2]\n",
    "dfs.iloc[:,0] = viruses\n",
    "1 / (1-dfs.iloc[:,-2])"
   ]
  },
  {
   "cell_type": "code",
   "execution_count": 74,
   "id": "0a4179fa",
   "metadata": {},
   "outputs": [
    {
     "data": {
      "text/html": [
       "<div>\n",
       "<style scoped>\n",
       "    .dataframe tbody tr th:only-of-type {\n",
       "        vertical-align: middle;\n",
       "    }\n",
       "\n",
       "    .dataframe tbody tr th {\n",
       "        vertical-align: top;\n",
       "    }\n",
       "\n",
       "    .dataframe thead th {\n",
       "        text-align: right;\n",
       "    }\n",
       "</style>\n",
       "<table border=\"1\" class=\"dataframe\">\n",
       "  <thead>\n",
       "    <tr style=\"text-align: right;\">\n",
       "      <th></th>\n",
       "      <th>Parameter</th>\n",
       "      <th>Mean of Top 100 Fit Estimates</th>\n",
       "      <th>Std of Top 100 Fit Estimates</th>\n",
       "      <th>Max of Top 100 Fit Estimates</th>\n",
       "      <th>Min of Top 100 Fit Estimates</th>\n",
       "      <th>Best Fit Estimate</th>\n",
       "      <th>Best Fit Log Likelihood</th>\n",
       "    </tr>\n",
       "  </thead>\n",
       "  <tbody>\n",
       "    <tr>\n",
       "      <th>RSV</th>\n",
       "      <td>p(walk)</td>\n",
       "      <td>0.99974</td>\n",
       "      <td>9.17e-10</td>\n",
       "      <td>0.99974</td>\n",
       "      <td>0.99974</td>\n",
       "      <td>0.99974</td>\n",
       "      <td>-2.26e+06</td>\n",
       "    </tr>\n",
       "    <tr>\n",
       "      <th>RSV</th>\n",
       "      <td>ptransc</td>\n",
       "      <td>0.94092</td>\n",
       "      <td>4.97e-06</td>\n",
       "      <td>0.94094</td>\n",
       "      <td>0.94091</td>\n",
       "      <td>0.94092</td>\n",
       "      <td>-2.26e+06</td>\n",
       "    </tr>\n",
       "    <tr>\n",
       "      <th>EBOV</th>\n",
       "      <td>p(walk)</td>\n",
       "      <td>0.99975</td>\n",
       "      <td>1.51e-04</td>\n",
       "      <td>0.99999</td>\n",
       "      <td>0.99943</td>\n",
       "      <td>0.99984</td>\n",
       "      <td>-1.22e+05</td>\n",
       "    </tr>\n",
       "    <tr>\n",
       "      <th>EBOV</th>\n",
       "      <td>ptransc</td>\n",
       "      <td>0.25486</td>\n",
       "      <td>1.69e-01</td>\n",
       "      <td>0.55855</td>\n",
       "      <td>0.01088</td>\n",
       "      <td>0.03403</td>\n",
       "      <td>-1.22e+05</td>\n",
       "    </tr>\n",
       "    <tr>\n",
       "      <th>MV</th>\n",
       "      <td>p(walk)</td>\n",
       "      <td>0.99985</td>\n",
       "      <td>8.85e-05</td>\n",
       "      <td>0.99999</td>\n",
       "      <td>0.99967</td>\n",
       "      <td>0.99984</td>\n",
       "      <td>-2.32e+04</td>\n",
       "    </tr>\n",
       "    <tr>\n",
       "      <th>MV</th>\n",
       "      <td>ptransc</td>\n",
       "      <td>0.43242</td>\n",
       "      <td>2.96e-01</td>\n",
       "      <td>0.91620</td>\n",
       "      <td>0.00225</td>\n",
       "      <td>0.17269</td>\n",
       "      <td>-2.32e+04</td>\n",
       "    </tr>\n",
       "  </tbody>\n",
       "</table>\n",
       "</div>"
      ],
      "text/plain": [
       "     Parameter  Mean of Top 100 Fit Estimates Std of Top 100 Fit Estimates  \\\n",
       "RSV    p(walk)                        0.99974                     9.17e-10   \n",
       "RSV    ptransc                        0.94092                     4.97e-06   \n",
       "EBOV   p(walk)                        0.99975                     1.51e-04   \n",
       "EBOV   ptransc                        0.25486                     1.69e-01   \n",
       "MV     p(walk)                        0.99985                     8.85e-05   \n",
       "MV     ptransc                        0.43242                     2.96e-01   \n",
       "\n",
       "      Max of Top 100 Fit Estimates  Min of Top 100 Fit Estimates  \\\n",
       "RSV                        0.99974                       0.99974   \n",
       "RSV                        0.94094                       0.94091   \n",
       "EBOV                       0.99999                       0.99943   \n",
       "EBOV                       0.55855                       0.01088   \n",
       "MV                         0.99999                       0.99967   \n",
       "MV                         0.91620                       0.00225   \n",
       "\n",
       "      Best Fit Estimate Best Fit Log Likelihood  \n",
       "RSV             0.99974               -2.26e+06  \n",
       "RSV             0.94092               -2.26e+06  \n",
       "EBOV            0.99984               -1.22e+05  \n",
       "EBOV            0.03403               -1.22e+05  \n",
       "MV              0.99984               -2.32e+04  \n",
       "MV              0.17269               -2.32e+04  "
      ]
     },
     "execution_count": 74,
     "metadata": {},
     "output_type": "execute_result"
    }
   ],
   "source": [
    "\n",
    "dfs = pd.DataFrame()\n",
    "for i in range(len(viruses)):\n",
    "    df = pd.read_csv((f\"File4-Top_100_Fit_Stats_overlaps/{viruses[i]}_fits.csv\"))\n",
    "    dfs = pd.concat([dfs, df])\n",
    "ind = [2 * [x] for x in viruses]\n",
    "inds = []\n",
    "for i in ind:\n",
    "    inds += i\n",
    "dfs.index = inds\n",
    "dfs.iloc[:,2] = dfs.iloc[:,2].apply(lambda x: '{:.2e}'.format(x))\n",
    "dfs.iloc[:,-1] = dfs.iloc[:,-1].apply(lambda x: '{:.2e}'.format(x))\n",
    "dfs = dfs.round(5)\n",
    "dfs.columns = [\"Parameter\"] + list(dfs.columns)[1:]\n",
    "dfs.to_csv(\"File4-Top_100_Fit_Stats_overlaps/All_Viruses_Processivities_Overlap_Gradient.csv\")\n",
    "dfs\n"
   ]
  },
  {
   "cell_type": "code",
   "execution_count": 195,
   "id": "b9cba45c",
   "metadata": {},
   "outputs": [
    {
     "data": {
      "text/plain": [
       "0    0.99974\n",
       "1    0.94092\n",
       "2    0.99984\n",
       "3    0.03403\n",
       "4    0.99984\n",
       "5    0.17269\n",
       "Name: Best Fit Estimate, dtype: float64"
      ]
     },
     "execution_count": 195,
     "metadata": {},
     "output_type": "execute_result"
    }
   ],
   "source": [
    "\n",
    "dfs = pd.read_csv(\"File4-Top_100_Fit_Stats_overlaps/All_Viruses_Processivities_Overlap_Gradient.csv\")\n"
   ]
  },
  {
   "cell_type": "code",
   "execution_count": 295,
   "id": "f2ca9418",
   "metadata": {},
   "outputs": [],
   "source": [
    "# define code for performing MCMC\n",
    "# This code is taken from the MCMC section of the UQ-Bio 2024 Github\n",
    "# https://github.com/MunskyGroup/uqbio2024\n",
    "\n",
    "def likelihood_ge(x):\n",
    "    p = x[0]\n",
    "    p_trans = x[1]\n",
    "    pred = np.array([p**x * p_trans for x in genome_pos])\n",
    "    for t in ov:\n",
    "        pred[ov] = pred[ov] * (1-p_trans)\n",
    "    lambda_pred = pred/np.sum(pred)\n",
    "    LL = 0\n",
    "    if len(dv.shape) == 1:\n",
    "        LL += np.sum(scipy.stats.poisson.logpmf(dv, lambda_pred))\n",
    "        if np.isnan(LL):\n",
    "            return np.inf\n",
    "        return LL\n",
    "    else:\n",
    "        for i in range(dv.shape[1]):\n",
    "            LL += np.sum(scipy.stats.poisson.logpmf(dv[:,i], lambda_pred))\n",
    "        if np.isnan(LL):\n",
    "            return np.inf\n",
    "        return LL\n",
    "    \n",
    "def prior_ge(h):\n",
    "    return np.log(scipy.stats.norm(p, scale= 1).pdf(h[0])) + np.log(scipy.stats.norm(ptransc, scale= 1).pdf(h[0]))\n",
    "\n",
    "\n",
    "def posterior_unnormalised_ge(h):\n",
    "    return likelihood_ge(h) + prior_ge(h)\n",
    "\n",
    "def logposterior_unnormalised_ge(x):\n",
    "    rho = x\n",
    "    log_likelihood = likelihood_ge(rho)\n",
    "    log_prior = prior_ge(rho)\n",
    "    return log_likelihood + log_prior\n",
    "\n"
   ]
  },
  {
   "cell_type": "code",
   "execution_count": 303,
   "id": "94bf8dde",
   "metadata": {},
   "outputs": [],
   "source": [
    "\n",
    "def simulate_step(log_target, proposal_width, x):\n",
    "    \"\"\"\n",
    "    Perform one step of the MH algorithm starting at `x`, with a normal distribution\n",
    "    for the proposal. `log_target` is the logarithm of the target distribution\n",
    "    and `proposal_width` is the width of the proposal distribution. Returns the next\n",
    "    sample.\n",
    "    \"\"\"\n",
    "    # propose a new value\n",
    "    y = x + proposal_width * np.random.randn(len(x))\n",
    "    if np.any(y < 0) or np.any(y > 1):\n",
    "        return x  # Reject proposal and return current value\n",
    "    log_alpha = np.sum(log_target(y) - log_target(x))    # the q-terms cancel\n",
    "    if log_alpha > 0:\n",
    "        return y           # accept\n",
    "    alpha = np.exp(log_alpha)\n",
    "    p = np.random.rand()\n",
    "    if p < alpha:        # this happens with probability alpha\n",
    "        return y           # accept\n",
    "    else:\n",
    "        return x           # reject\n",
    "def metropolis_hastings(log_target, proposal_width, nsteps, x0):\n",
    "    \"\"\"\n",
    "    Perform MCMC by running the Metropolis-Hastings algorithm for `nsteps` steps,\n",
    "    starting at `x0`. `log_target` is the logarithm of the target distribution\n",
    "    and `proposal_width` is the width of the proposal distribution. Returns a matrix\n",
    "    of samples.\n",
    "    \"\"\"\n",
    "    ret = np.zeros((nsteps, len(x0)))\n",
    "    ret[0] = x0\n",
    "    for i in tqdm(range(1, nsteps)):\n",
    "        ret[i] = simulate_step(log_target, proposal_width, ret[i-1])\n",
    "    return ret"
   ]
  },
  {
   "cell_type": "code",
   "execution_count": 304,
   "id": "b5b5b413",
   "metadata": {},
   "outputs": [
    {
     "data": {
      "application/vnd.jupyter.widget-view+json": {
       "model_id": "a439b44afc3346c5b07082b8512e8e35",
       "version_major": 2,
       "version_minor": 0
      },
      "text/plain": [
       "  0%|          | 0/100999 [00:00<?, ?it/s]"
      ]
     },
     "metadata": {},
     "output_type": "display_data"
    },
    {
     "data": {
      "application/vnd.jupyter.widget-view+json": {
       "model_id": "1433a7e25a8d4c04a63f16cd7d0a68ea",
       "version_major": 2,
       "version_minor": 0
      },
      "text/plain": [
       "  0%|          | 0/100999 [00:00<?, ?it/s]"
      ]
     },
     "metadata": {},
     "output_type": "display_data"
    },
    {
     "data": {
      "application/vnd.jupyter.widget-view+json": {
       "model_id": "0894d77e128644e09b1b15f0fed74b89",
       "version_major": 2,
       "version_minor": 0
      },
      "text/plain": [
       "  0%|          | 0/100999 [00:00<?, ?it/s]"
      ]
     },
     "metadata": {},
     "output_type": "display_data"
    }
   ],
   "source": [
    "\n",
    "MCMC_outs = []\n",
    "for j in range(len(viruses)):\n",
    "    dv = np.array(virus_data[j])\n",
    "    ov = overlaps[j]\n",
    "    genome_pos = virus_genome_pos[j]\n",
    "    ptransc = dfs.iloc[j*2:j*2 + 2].iloc[1,-2]\n",
    "    p = dfs.iloc[j*2:j*2 + 2].iloc[0,-2]\n",
    "    nsamples = 101000\n",
    "    burnin = 1000\n",
    "    post_ge_mcmc = metropolis_hastings(logposterior_unnormalised_ge, .01, nsamples, np.array([p, ptransc]))\n",
    "    post_ge_mcmc = post_ge_mcmc[burnin:]  \n",
    "    MCMC_outs.append(post_ge_mcmc) \n",
    "\n",
    "\n",
    "    \n",
    "    \n",
    "\n"
   ]
  },
  {
   "cell_type": "code",
   "execution_count": 306,
   "id": "e96d60ea",
   "metadata": {},
   "outputs": [],
   "source": [
    "\n",
    "MCMC_outs = np.array(MCMC_outs)\n",
    "np.save(\"File5-MCMC_Outputs/overlap_model_MCMC_Raw.npy\", MCMC_outs)\n"
   ]
  },
  {
   "cell_type": "code",
   "execution_count": 307,
   "id": "2c2226ca",
   "metadata": {},
   "outputs": [
    {
     "data": {
      "text/html": [
       "<div>\n",
       "<style scoped>\n",
       "    .dataframe tbody tr th:only-of-type {\n",
       "        vertical-align: middle;\n",
       "    }\n",
       "\n",
       "    .dataframe tbody tr th {\n",
       "        vertical-align: top;\n",
       "    }\n",
       "\n",
       "    .dataframe thead th {\n",
       "        text-align: right;\n",
       "    }\n",
       "</style>\n",
       "<table border=\"1\" class=\"dataframe\">\n",
       "  <thead>\n",
       "    <tr style=\"text-align: right;\">\n",
       "      <th></th>\n",
       "      <th>Virus</th>\n",
       "      <th>Parameter</th>\n",
       "      <th>Mean</th>\n",
       "      <th>2.5% Quantile</th>\n",
       "      <th>50% Quantile</th>\n",
       "      <th>97.5% Quantile</th>\n",
       "    </tr>\n",
       "  </thead>\n",
       "  <tbody>\n",
       "    <tr>\n",
       "      <th>0</th>\n",
       "      <td>RSV</td>\n",
       "      <td>p(walk)</td>\n",
       "      <td>0.999744</td>\n",
       "      <td>0.99974</td>\n",
       "      <td>0.999744</td>\n",
       "      <td>0.999745</td>\n",
       "    </tr>\n",
       "    <tr>\n",
       "      <th>1</th>\n",
       "      <td>RSV</td>\n",
       "      <td>ptransc</td>\n",
       "      <td>0.939913</td>\n",
       "      <td>0.931485</td>\n",
       "      <td>0.938932</td>\n",
       "      <td>0.946686</td>\n",
       "    </tr>\n",
       "    <tr>\n",
       "      <th>2</th>\n",
       "      <td>EBOV</td>\n",
       "      <td>p(walk)</td>\n",
       "      <td>0.999827</td>\n",
       "      <td>0.999824</td>\n",
       "      <td>0.999826</td>\n",
       "      <td>0.999833</td>\n",
       "    </tr>\n",
       "    <tr>\n",
       "      <th>3</th>\n",
       "      <td>EBOV</td>\n",
       "      <td>ptransc</td>\n",
       "      <td>0.004872</td>\n",
       "      <td>0.001319</td>\n",
       "      <td>0.001735</td>\n",
       "      <td>0.022324</td>\n",
       "    </tr>\n",
       "    <tr>\n",
       "      <th>4</th>\n",
       "      <td>MV</td>\n",
       "      <td>p(walk)</td>\n",
       "      <td>0.999847</td>\n",
       "      <td>0.999838</td>\n",
       "      <td>0.999847</td>\n",
       "      <td>0.999859</td>\n",
       "    </tr>\n",
       "    <tr>\n",
       "      <th>5</th>\n",
       "      <td>MV</td>\n",
       "      <td>ptransc</td>\n",
       "      <td>0.102856</td>\n",
       "      <td>0.081125</td>\n",
       "      <td>0.097078</td>\n",
       "      <td>0.165209</td>\n",
       "    </tr>\n",
       "  </tbody>\n",
       "</table>\n",
       "</div>"
      ],
      "text/plain": [
       "  Virus Parameter      Mean 2.5% Quantile 50% Quantile 97.5% Quantile\n",
       "0   RSV   p(walk)  0.999744       0.99974     0.999744       0.999745\n",
       "1   RSV   ptransc  0.939913      0.931485     0.938932       0.946686\n",
       "2  EBOV   p(walk)  0.999827      0.999824     0.999826       0.999833\n",
       "3  EBOV   ptransc  0.004872      0.001319     0.001735       0.022324\n",
       "4    MV   p(walk)  0.999847      0.999838     0.999847       0.999859\n",
       "5    MV   ptransc  0.102856      0.081125     0.097078       0.165209"
      ]
     },
     "execution_count": 307,
     "metadata": {},
     "output_type": "execute_result"
    }
   ],
   "source": [
    "\n",
    "\n",
    "\n",
    "\n",
    "df = pd.DataFrame([np.array([list(x) for x in list(zip(viruses,viruses))]).flatten(), [\"p(walk)\", \"ptransc\"] * 3, np.mean(MCMC_outs, axis = 1).flatten(), np.quantile(MCMC_outs, .025, axis = 1).flatten(), np.quantile(MCMC_outs, .5, axis = 1).flatten(), np.quantile(MCMC_outs, .975, axis = 1).flatten()])\n",
    "df = df.T\n",
    "df.columns =  [\"Virus\",\"Parameter\", \"Mean\", \"2.5% Quantile\", \"50% Quantile\",\"97.5% Quantile\" ]\n",
    "df.to_csv(\"File5-MCMC_Outputs/overlap_model_MCMC_statistics.csv\")\n",
    "df\n"
   ]
  },
  {
   "cell_type": "code",
   "execution_count": 315,
   "id": "10b32c0a",
   "metadata": {},
   "outputs": [
    {
     "data": {
      "image/png": "[encoded data removed]",
      "text/plain": [
       "<Figure size 432x288 with 1 Axes>"
      ]
     },
     "metadata": {
      "needs_background": "light"
     },
     "output_type": "display_data"
    },
    {
     "data": {
      "image/png": "[encoded data removed]",
      "text/plain": [
       "<Figure size 432x288 with 1 Axes>"
      ]
     },
     "metadata": {
      "needs_background": "light"
     },
     "output_type": "display_data"
    },
    {
     "data": {
      "image/png": "[encoded data removed]",
      "text/plain": [
       "<Figure size 432x288 with 1 Axes>"
      ]
     },
     "metadata": {
      "needs_background": "light"
     },
     "output_type": "display_data"
    }
   ],
   "source": [
    "for i in range(3):\n",
    "    x = MCMC_outs[i]\n",
    "    plt.scatter(x[:,0], x[:,1])\n",
    "    plt.ylim(-.01,1)\n",
    "    plt.xlim(.5,1.5)\n",
    "    plt.show()"
   ]
  },
  {
   "cell_type": "code",
   "execution_count": null,
   "id": "eea4ee79",
   "metadata": {},
   "outputs": [],
   "source": []
  }
 ],
 "metadata": {
  "kernelspec": {
   "display_name": "Python 3",
   "language": "python",
   "name": "python3"
  },
  "language_info": {
   "codemirror_mode": {
    "name": "ipython",
    "version": 3
   },
   "file_extension": ".py",
   "mimetype": "text/x-python",
   "name": "python",
   "nbconvert_exporter": "python",
   "pygments_lexer": "ipython3",
   "version": "3.8.8"
  }
 },
 "nbformat": 4,
 "nbformat_minor": 5
}
