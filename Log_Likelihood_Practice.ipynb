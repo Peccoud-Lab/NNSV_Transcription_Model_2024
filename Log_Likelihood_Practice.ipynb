{
 "cells": [
  {
   "cell_type": "code",
   "execution_count": 1,
   "id": "1901cc0e",
   "metadata": {},
   "outputs": [],
   "source": [
    "import numpy as np\n",
    "from scipy.optimize import minimize\n",
    "import matplotlib.pyplot as plt\n",
    "import itertools\n",
    "import pandas as pd\n",
    "import scipy"
   ]
  },
  {
   "cell_type": "code",
   "execution_count": 2,
   "id": "6f5a2400",
   "metadata": {},
   "outputs": [],
   "source": [
    "RSV_data = np.array([[21523, 18363, 18354],\n",
    "                     [17765, 14929, 14681],\n",
    "                     [ 7910,  6497,  7076],\n",
    "                     [ 8710,  7052,  7234],\n",
    "                     [ 8470,  7248,  6867],\n",
    "                     [ 5809,  4852,  4782],\n",
    "                     [ 5530,  4089,  5031],\n",
    "                     [ 3802,  2929,  2997],\n",
    "                     [ 3191,  2742,  2665],\n",
    "                     [   33,    12,    29]])\n",
    "\n"
   ]
  },
  {
   "cell_type": "code",
   "execution_count": 3,
   "id": "e483ff71",
   "metadata": {},
   "outputs": [
    {
     "data": {
      "text/plain": [
       "array([    0,   522,  1751,  2666,  3633,  4052,  5019,  6974,  7981,\n",
       "       14491])"
      ]
     },
     "execution_count": 3,
     "metadata": {},
     "output_type": "execute_result"
    }
   ],
   "source": [
    "RSV_genome_pos = np.array([576,1098,2327,3242,4209,4628,5595,7550,8557,15067])\n",
    "RSV_genome_pos = np.array(RSV_genome_pos - np.min(RSV_genome_pos))\n",
    "RSV_genome_pos"
   ]
  },
  {
   "cell_type": "code",
   "execution_count": 4,
   "id": "85d1b33e",
   "metadata": {},
   "outputs": [
    {
     "data": {
      "text/plain": [
       "0.9995406940038766"
      ]
     },
     "execution_count": 4,
     "metadata": {},
     "output_type": "execute_result"
    }
   ],
   "source": [
    "best_fit = pd.read_csv((f\"File2-Top_100_Fit_Stats_simple_model/RSV_fits.csv\")).iloc[0][-2]\n",
    "best_fit\n"
   ]
  },
  {
   "cell_type": "code",
   "execution_count": 5,
   "id": "2d2c7e32",
   "metadata": {},
   "outputs": [
    {
     "data": {
      "text/plain": [
       "82743"
      ]
     },
     "execution_count": 5,
     "metadata": {},
     "output_type": "execute_result"
    }
   ],
   "source": [
    "np.sum(RSV_data, axis = 0)[0]"
   ]
  },
  {
   "cell_type": "code",
   "execution_count": 6,
   "id": "d4b40fdd",
   "metadata": {},
   "outputs": [
    {
     "data": {
      "text/plain": [
       "array([27227.67790262, 21422.05969488, 12180.11218538,  8000.01120042,\n",
       "        5130.44300965,  4232.10112528,  2714.06540445,  1105.50048397,\n",
       "         696.0531679 ,    34.97582546])"
      ]
     },
     "execution_count": 6,
     "metadata": {},
     "output_type": "execute_result"
    }
   ],
   "source": [
    "pred = np.array([best_fit**x for x in RSV_genome_pos])\n",
    "lambda_pred = pred/np.sum(pred)\n",
    "lambda_pred * np.sum(RSV_data, axis = 0)[0]"
   ]
  },
  {
   "cell_type": "code",
   "execution_count": null,
   "id": "6ec85f52",
   "metadata": {},
   "outputs": [],
   "source": [
    "\n",
    "\n"
   ]
  }
 ],
 "metadata": {
  "kernelspec": {
   "display_name": "Python 3",
   "language": "python",
   "name": "python3"
  },
  "language_info": {
   "codemirror_mode": {
    "name": "ipython",
    "version": 3
   },
   "file_extension": ".py",
   "mimetype": "text/x-python",
   "name": "python",
   "nbconvert_exporter": "python",
   "pygments_lexer": "ipython3",
   "version": "3.8.8"
  }
 },
 "nbformat": 4,
 "nbformat_minor": 5
}
