{
 "cells": [
  {
   "cell_type": "code",
   "execution_count": 1,
   "id": "59ab452e",
   "metadata": {},
   "outputs": [],
   "source": [
    "import numpy as np\n",
    "from scipy.optimize import minimize\n",
    "import matplotlib.pyplot as plt\n",
    "import itertools\n",
    "import pandas as pd"
   ]
  },
  {
   "cell_type": "code",
   "execution_count": 2,
   "id": "4410d678",
   "metadata": {},
   "outputs": [
    {
     "data": {
      "text/plain": [
       "array([0.38951428, 0.27265999, 0.190862  , 0.1336034 , 0.01336034])"
      ]
     },
     "execution_count": 2,
     "metadata": {},
     "output_type": "execute_result"
    }
   ],
   "source": [
    "vsv_data = np.array([1, .7, .49, .343, .0343]) # VSV gradient\n",
    "vsv_data_norm = vsv_data/np.sum(vsv_data)\n",
    "vsv_data_norm\n"
   ]
  },
  {
   "cell_type": "code",
   "execution_count": 3,
   "id": "2be1a3b5",
   "metadata": {},
   "outputs": [
    {
     "data": {
      "text/plain": [
       "array([0.51145038, 0.17366412, 0.1278626 , 0.10305344, 0.07633588,\n",
       "       0.00763359])"
      ]
     },
     "execution_count": 3,
     "metadata": {},
     "output_type": "execute_result"
    }
   ],
   "source": [
    "measles_data_mean = np.array([26800, 9100, 6700, 5400, 4000, 400]) # Measles gradient\n",
    "measles_data_mean_norm = measles_data_mean/np.sum(measles_data_mean)\n",
    "measles_data_mean_norm\n"
   ]
  },
  {
   "cell_type": "code",
   "execution_count": 4,
   "id": "0f4e4132",
   "metadata": {},
   "outputs": [
    {
     "data": {
      "text/plain": [
       "array([0.47640956, 0.19775956, 0.13444782, 0.11314447, 0.06350172,\n",
       "       0.01473687])"
      ]
     },
     "execution_count": 4,
     "metadata": {},
     "output_type": "execute_result"
    }
   ],
   "source": [
    "PIV2_data = np.array([[49.73, 18.61, 12.10,10.87,6.09,2.43], # PIV2 gradients\n",
    "                      [47.25,20.44,14.78,13.10,7.49,1.64],\n",
    "                      [47.28,19.58,13.76,10.93,6.31,0.91],\n",
    "                      [48.10,21.27,13.71,10.87,5.80,0.98]]).T\n",
    "PIV2_data =PIV2_data/np.sum(PIV2_data, axis = 0)\n",
    "PIV2_data_mean = np.mean(PIV2_data,axis = 1)\n",
    "PIV2_data_sd = np.std(PIV2_data,axis = 1)\n",
    "PIV2_data_mean_norm = PIV2_data_mean/np.sum(PIV2_data_mean)\n",
    "PIV2_data_sd_norm = PIV2_data_sd/np.sum(PIV2_data_mean)\n",
    "PIV2_data_mean_norm"
   ]
  },
  {
   "cell_type": "code",
   "execution_count": 5,
   "id": "16573f3a",
   "metadata": {},
   "outputs": [
    {
     "data": {
      "text/plain": [
       "array([0.33678241, 0.19898186, 0.15117604, 0.11942888, 0.11711218,\n",
       "       0.07436461, 0.00215403])"
      ]
     },
     "execution_count": 5,
     "metadata": {},
     "output_type": "execute_result"
    }
   ],
   "source": [
    "PIV5_data = np.array([[35.10, 21.76, 14.35,11.96,13.29, 6.08, 0.50], # PIV5 gradients\n",
    "                      [35.08, 22.27,15.87, 11.09, 11.56, 5.95, 0.20],\n",
    "                      [37.89, 20.49, 13.55, 10.68, 10.28, 6.11, 0],\n",
    "                      [27.94, 15.92, 17.27, 14.48, 12.21, 11.82, 0.18]]).T\n",
    "PIV5_data =PIV5_data/np.sum(PIV5_data, axis = 0)\n",
    "PIV5_data_mean = np.mean(PIV5_data,axis = 1)\n",
    "PIV5_data_sd = np.std(PIV5_data,axis = 1)\n",
    "PIV5_data_mean_norm = PIV5_data_mean/np.sum(PIV5_data_mean)\n",
    "PIV5_data_sd_norm = PIV5_data_sd/np.sum(PIV5_data_mean)\n",
    "PIV5_data_mean_norm"
   ]
  },
  {
   "cell_type": "code",
   "execution_count": 6,
   "id": "16e5df94",
   "metadata": {},
   "outputs": [
    {
     "data": {
      "text/plain": [
       "array([0.30329713, 0.18474135, 0.19981523, 0.1586091 , 0.14595675,\n",
       "       0.00758044])"
      ]
     },
     "execution_count": 6,
     "metadata": {},
     "output_type": "execute_result"
    }
   ],
   "source": [
    "PIV3_data = np.array([[32.28,19.57,20.74,16.17,10.61,1.35], # PIV3 gradients\n",
    "                      [28.42,15.60,21.95,18.07,14.57,0.30],\n",
    "                      [28.52,16.66,20.09,16.55,17.80,0.66],\n",
    "                      [32.08,22.07,17.10,12.61,15.36,0.73]]).T\n",
    "PIV3_data =PIV3_data/np.sum(PIV3_data, axis = 0)\n",
    "PIV3_data_mean = np.mean(PIV3_data,axis = 1)\n",
    "PIV3_data_sd = np.std(PIV3_data,axis = 1)\n",
    "PIV3_data_mean_norm = PIV3_data_mean/np.sum(PIV3_data_mean)\n",
    "PIV3_data_sd_norm = PIV3_data_sd/np.sum(PIV3_data_mean)\n",
    "PIV3_data_mean_norm"
   ]
  },
  {
   "cell_type": "code",
   "execution_count": 7,
   "id": "35d20c71",
   "metadata": {},
   "outputs": [
    {
     "data": {
      "text/plain": [
       "array([0.30439141, 0.30201426, 0.14511721, 0.08779315, 0.08534133,\n",
       "       0.05671981, 0.01862282])"
      ]
     },
     "execution_count": 7,
     "metadata": {},
     "output_type": "execute_result"
    }
   ],
   "source": [
    "MuV_data = np.array([[30.07,27.46,15.46,9.89,9.77,6.42,2.53], # Mumps gradients\n",
    "                      [30.13,27.56,15.30,10.41,9.88,6.28,2.34],\n",
    "                      [30.48,31.26,14.55,8.15,7.69,5.45,1.47],\n",
    "                      [31.32,34.62,12.92,6.83,6.95,4.63,1.16]]).T\n",
    "MuV_data = MuV_data/np.sum(MuV_data, axis = 0)\n",
    "MuV_data_mean = np.mean(MuV_data,axis = 1)\n",
    "MuV_data_sd = np.std(MuV_data,axis = 1)\n",
    "MuV_data_mean_norm = MuV_data_mean/np.sum(MuV_data_mean)\n",
    "MuV_data_sd_norm = MuV_data_sd/np.sum(MuV_data_mean)\n",
    "MuV_data_mean_norm"
   ]
  },
  {
   "cell_type": "code",
   "execution_count": 8,
   "id": "2e7aec06",
   "metadata": {},
   "outputs": [
    {
     "data": {
      "text/plain": [
       "array([2.59397817e-01, 1.67528945e-01, 1.07194138e-01, 1.40843727e-01,\n",
       "       1.13468605e-01, 5.60103269e-02, 4.73593395e-02, 5.02278547e-02,\n",
       "       5.78807745e-02, 8.84720595e-05])"
      ]
     },
     "execution_count": 8,
     "metadata": {},
     "output_type": "execute_result"
    }
   ],
   "source": [
    "RSV_data = np.array([[19.19,18.13,19.16], # RSV Gradient from Donovan-Banfield et al\n",
    "          [15.26,10.23,10.67],\n",
    "          [3.54,10.6,9.71],\n",
    "          [9.5,11.06,10.23],\n",
    "          [6.57, 9.63, 8.73],\n",
    "          [4.02,4.01,4.18],\n",
    "          [3.88,3.11,3.28],\n",
    "          [2.32,4.89,3.90],\n",
    "          [3.50,4.82,4.38],\n",
    "          [0,.01,.01]])\n",
    "RSV_data =RSV_data/np.sum(RSV_data, axis = 0)\n",
    "RSV_data_mean = np.mean(RSV_data,axis = 1)\n",
    "RSV_data_sd = np.std(RSV_data,axis = 1)\n",
    "RSV_data_mean_norm = RSV_data_mean/np.sum(RSV_data_mean)\n",
    "RSV_data_sd_norm = RSV_data_sd/np.sum(RSV_data_mean)\n",
    "RSV_data_mean_norm\n",
    "\n"
   ]
  },
  {
   "cell_type": "code",
   "execution_count": 9,
   "id": "d47e467a",
   "metadata": {},
   "outputs": [
    {
     "data": {
      "text/plain": [
       "array([0.25557289, 0.24509283, 0.17593594, 0.15810327, 0.09090793,\n",
       "       0.05708329, 0.01730385])"
      ]
     },
     "execution_count": 9,
     "metadata": {},
     "output_type": "execute_result"
    }
   ],
   "source": [
    "EBOV_data = np.array([[3322.50,3013.07,2345.22,1697.22,1079.27,583.89,228.20], # Ebola Gradient\n",
    "                      [651.15,662.69,435.44,481.90,254.26,180.37,43.37]]).T\n",
    "EBOV_data = EBOV_data/np.sum(EBOV_data, axis = 0)\n",
    "EBOV_data_mean = np.mean(EBOV_data,axis = 1)\n",
    "EBOV_data_sd = np.std(EBOV_data,axis = 1)\n",
    "EBOV_data_mean_norm = EBOV_data_mean/np.sum(EBOV_data_mean)\n",
    "EBOV_data_sd_norm = EBOV_data_sd/np.sum(EBOV_data_mean)\n",
    "EBOV_data_mean_norm"
   ]
  },
  {
   "cell_type": "code",
   "execution_count": 10,
   "id": "198935d3",
   "metadata": {},
   "outputs": [
    {
     "data": {
      "text/plain": [
       "array([0.27476777, 0.24124234, 0.15202615, 0.13649702, 0.11001631,\n",
       "       0.07149471, 0.0139557 ])"
      ]
     },
     "execution_count": 10,
     "metadata": {},
     "output_type": "execute_result"
    }
   ],
   "source": [
    "\n",
    "MV_data = np.array([[851.14,688.19,492.81,387.58,336.48,210.84,48.06], # Marbug Gradient\n",
    "                      [108.49,103.21,57.08,58.64,44.02,29.66,4.86]]).T\n",
    "MV_data = MV_data/np.sum(MV_data, axis = 0)\n",
    "MV_data_mean = np.mean(MV_data,axis = 1)\n",
    "MV_data_sd = np.std(MV_data,axis = 1)\n",
    "MV_data_mean_norm = MV_data_mean/np.sum(MV_data_mean)\n",
    "MV_data_sd_norm = MV_data_sd/np.sum(MV_data_mean)\n",
    "MV_data_mean_norm\n"
   ]
  },
  {
   "cell_type": "code",
   "execution_count": 11,
   "id": "cf88faa1",
   "metadata": {},
   "outputs": [],
   "source": [
    "# define list of virus names\n",
    "viruses = [\"VSV\", \"MeV\", \"PIV2\", \"PIV3\", \"PIV5\", \"MuV\", \"EBOV\", \"MV\", \"RSV\"]\n",
    "# define list of virus genes and their orders\n",
    "virus_gene_names = [\n",
    "    ['N', 'P', 'M', 'G', 'L'],\n",
    "    ['N', 'P', 'M', 'F', \"H\", 'L'],\n",
    "    ['NP', 'VIP', 'M', 'F', \"HN\", 'L'],\n",
    "    ['NP', 'P/D/C', 'M', 'F', \"HN\", 'L'], \n",
    "    ['NP', 'VIP', 'M', 'F', \"SH\",\"HN\", 'L'],\n",
    "    ['NP', 'V/P', 'M', 'F', \"SH\",\"HN\", 'L'],\n",
    "    [\"NP\", \"VP35\", \"VP40\", \"GP\", \"VP30\", \"VP24\", \"L\"],\n",
    "    [\"NP\", \"VP35\", \"VP40\", \"GP\", \"VP30\", \"VP24\", \"L\"],\n",
    "    [\"NS1\", \"NS2\", \"N\", \"P\", \"M\", \"SH\", \"G\", \"F\", \"M2\", \"L\"]]\n",
    "# define list of mean expression of each gene for each virus\n",
    "virus_means = [vsv_data_norm, measles_data_mean_norm, PIV2_data_mean_norm, PIV3_data_mean_norm, PIV5_data_mean_norm,\n",
    "              MuV_data_mean_norm,EBOV_data_mean_norm, MV_data_mean_norm, RSV_data_mean_norm]\n",
    "\n",
    "# define list of sd of expression of each gene for each virus. 0 implies that this was not available\n",
    "virus_sd = [[0,0,0,0,0], [0,0,0,0,0,0], PIV2_data_sd_norm, PIV3_data_sd_norm, PIV5_data_sd_norm,\n",
    "              MuV_data_sd_norm, EBOV_data_sd_norm, MV_data_sd_norm, RSV_data_sd_norm]\n",
    "\n",
    "\n"
   ]
  },
  {
   "cell_type": "code",
   "execution_count": 12,
   "id": "175a17e5",
   "metadata": {},
   "outputs": [],
   "source": [
    "# define lists of position of gene stop signal for each gene\n",
    "VSV_genome_pos = np.array([1376, 2199, 3039, 4713, 11095])\n",
    "VSV_genome_pos = np.array(VSV_genome_pos - np.min(VSV_genome_pos))\n",
    "VSV_genome_pos\n",
    "\n",
    "#\n",
    "measles_genome_pos =  np.array([1744,3402,4872,7247,9208,15854])\n",
    "measles_genome_pos = np.array(measles_genome_pos - np.min(measles_genome_pos))\n",
    "measles_genome_pos\n",
    "\n",
    "#\n",
    "PIV2_genome_pos =  np.array([1915, 3361,4738,6626,8738,15621])\n",
    "PIV2_genome_pos = np.array(PIV2_genome_pos - np.min(PIV2_genome_pos))\n",
    "PIV2_genome_pos\n",
    "\n",
    "#\n",
    "PIV3_genome_pos =  np.array([1658, 3595,4814,6691,8524,15347])\n",
    "PIV3_genome_pos = np.array(PIV3_genome_pos - np.min(PIV3_genome_pos))\n",
    "PIV3_genome_pos\n",
    "\n",
    "#\n",
    "PIV5_genome_pos =  np.array([1787, 3092,4478,6219,6515,8392,15215])\n",
    "PIV5_genome_pos = np.array(PIV5_genome_pos - np.min(PIV5_genome_pos))\n",
    "PIV5_genome_pos\n",
    "\n",
    "#\n",
    "MuV_genome_pos =  np.array([1906, 3226,4481,6210, 6533, 8428, 15360])\n",
    "MuV_genome_pos = np.array(MuV_genome_pos - np.min(MuV_genome_pos))\n",
    "MuV_genome_pos\n",
    "\n",
    "RSV_genome_pos = np.array([576,1098,2327,3242,4209,4628,5595,7550,8557,15067])\n",
    "RSV_genome_pos = np.array(RSV_genome_pos - np.min(RSV_genome_pos))\n",
    "RSV_genome_pos\n",
    "\n",
    "EBOV_genome_pos =  np.array([3026,4407,5894,8305,9740,11518,18282])\n",
    "EBOV_genome_pos = np.array(EBOV_genome_pos - np.min(EBOV_genome_pos))\n",
    "EBOV_genome_pos\n",
    "\n",
    "MV_genome_pos =  np.array([2844,4410,5819,8670,10016,11285,19037])\n",
    "MV_genome_pos = np.array(MV_genome_pos - np.min(MV_genome_pos))\n",
    "MV_genome_pos\n",
    "\n",
    "virus_genome_pos = [VSV_genome_pos, measles_genome_pos, PIV2_genome_pos, PIV3_genome_pos, PIV5_genome_pos, MuV_genome_pos, EBOV_genome_pos, MV_genome_pos, RSV_genome_pos]\n",
    "\n"
   ]
  },
  {
   "cell_type": "code",
   "execution_count": 13,
   "id": "540621f7",
   "metadata": {},
   "outputs": [],
   "source": [
    "# objective function for fitting model\n",
    "\n",
    "def obj_fun(x):\n",
    "    p = x[0]\n",
    "    pred = np.array([p**x for x in genome_pos])\n",
    "    pred_norm = pred/np.sum(pred)\n",
    "    mse = np.mean(( ( pred_norm-data_norm ) )**2) #/data_norm_sd\n",
    "    return mse\n",
    "\n"
   ]
  },
  {
   "cell_type": "code",
   "execution_count": null,
   "id": "e50d2dfd",
   "metadata": {},
   "outputs": [],
   "source": [
    "# iterate through each virus and fit the model 100,000 times starting at random positions.\n",
    "\n",
    "all_fits = []\n",
    "all_funcs = []\n",
    "for j in range(len(viruses)):\n",
    "    fits = []\n",
    "    funcs = []\n",
    "    data_norm = np.array(virus_means[j])\n",
    "    genome_pos = virus_genome_pos[j]\n",
    "    if j == 0 or j == 1 or j == 8:\n",
    "        data_norm_sd = np.array([1] * len(virus_means[j]))\n",
    "    else:\n",
    "        data_norm_sd = np.array(virus_sd[j])\n",
    "    for i in range(100000):\n",
    "        res = minimize(obj_fun, [np.random.random()], bounds = [[0, 1]], tol = 1e-20)\n",
    "        fits.append(res.x)\n",
    "        funcs.append(res.fun)\n",
    "    all_fits.append(fits)\n",
    "    all_funcs.append(funcs)\n",
    "    print(viruses[j])"
   ]
  },
  {
   "cell_type": "code",
   "execution_count": null,
   "id": "01dfaae7",
   "metadata": {},
   "outputs": [],
   "source": [
    "\n",
    "\n",
    "all_fits = np.array(all_fits).reshape([9,100000])\n",
    "\n"
   ]
  },
  {
   "cell_type": "code",
   "execution_count": null,
   "id": "8bc876b0",
   "metadata": {},
   "outputs": [],
   "source": [
    "# save fits and then generate and save a file with the \n",
    "# statistics assocaited with the top 100 fits for each virus\n",
    "\n",
    "for i in range(len(viruses)):\n",
    "    df = pd.DataFrame([all_fits[i], all_funcs[i]]). T\n",
    "    df.columns = [\"p(walk)\", \"WMSE\"]\n",
    "    df.to_csv(f\"File1-All_Parameter_Fits_simple_model/{viruses[i]}_fits.csv\")\n",
    "    df = df.loc[np.array(df.iloc[:,-1]) < np.quantile(np.array(df.iloc[:,-1]), .001)]\n",
    "    df_stats = pd.DataFrame([np.mean(df.iloc[:,0]), np.std(df.iloc[:,0]), np.max(df.iloc[:,0]), np.min(df.iloc[:,0]), df[df.iloc[:,1] == np.min(df.iloc[:,1])].iloc[0,0], df[df.iloc[:,1] == np.min(df.iloc[:,1])].iloc[0,-1]]).T\n",
    "    df_stats.columns = [\"Mean of Top 100 Fit Estimates\", \"Std of Top 100 Fit Estimates\", \"Max of Top 100 Fit Estimates\", \"Min of Top 100 Fit Estimates\", \"Best Fit Estimate\", \"Best Fit MSE\"]\n",
    "    df_stats.index = [\"p(walk)\"]\n",
    "    df_stats.to_csv(f\"File2-Top_100_Fit_Stats_simple_model/{viruses[i]}_fits.csv\")\n",
    "    \n",
    "    \n"
   ]
  },
  {
   "cell_type": "code",
   "execution_count": null,
   "id": "289e53f2",
   "metadata": {},
   "outputs": [],
   "source": [
    "# Get the best fit parameter\n",
    "\n",
    "dfs = pd.DataFrame()\n",
    "for i in range(len(viruses)):\n",
    "    df = pd.read_csv((f\"File2-Top_100_Fit_Stats_simple_model/{viruses[i]}_fits.csv\"))\n",
    "    dfs = pd.concat([dfs, df])\n",
    "best_fit_pars = dfs.iloc[:,3]\n"
   ]
  },
  {
   "cell_type": "code",
   "execution_count": null,
   "id": "4df972c3",
   "metadata": {},
   "outputs": [],
   "source": [
    "# Generate barplots of observed gradients and predicted gradients\n",
    "\n",
    "for i in range(len(viruses)):\n",
    "    genome_pos = virus_genome_pos[i]\n",
    "    pars = best_fit_pars.iloc[i]\n",
    "    pred = np.array([pars**x for x in genome_pos])\n",
    "    pred_norm = pred/np.sum(pred)\n",
    "    categories = virus_gene_names[i]\n",
    "    indices = np.arange(len(categories))\n",
    "    \n",
    "    # Create figure and axis\n",
    "    fig, ax = plt.subplots(figsize=(10, 6))\n",
    "    \n",
    "    # Create bars\n",
    "    bar_width = 0.35\n",
    "    ax.set_title(f'{viruses[i]}', fontsize=28)\n",
    "    \n",
    "    # Create bars for virus_means[i]\n",
    "    ax.bar(indices - bar_width/2, virus_means[i], width=bar_width, yerr= 2 * np.array(virus_sd[i]), color='#0072B2', edgecolor='black', label='Observed Ratio')\n",
    "    \n",
    "    # Increase y-axis label size\n",
    "    ax.tick_params(axis='y', labelsize=18)\n",
    "    \n",
    "    # Create bars for pred_norm\n",
    "    ax.bar(indices + bar_width/2, pred_norm, width=bar_width, color='red', edgecolor='black', label='Model Predictions')\n",
    "    \n",
    "    # Set legend with improved positioning and styling\n",
    "    ax.legend(loc='best', fontsize=20, frameon=True, shadow=True)\n",
    "    \n",
    "    # Set labels, title, and ticks\n",
    "    ax.set_xticks(indices)\n",
    "    plt.ylim([0,.52])\n",
    "\n",
    "    mse = np.format_float_scientific(np.mean( ( (np.array(pred_norm) - np.array(virus_means[i]) )  )**2 ), precision=2) # /data_norm_sd\n",
    "    ax.set_xticklabels(categories, fontsize=20)\n",
    "    ax.set_ylabel('Proportion of Total Viral mRNA', fontsize=20)\n",
    "    ax.set_xlabel('Gene', fontsize=20)\n",
    "    ax.grid(True, which='both', axis='y', linestyle='--', linewidth=0.5)\n",
    "    ax.text(0.55, 0.95, f'MSE: {mse}', transform=ax.transAxes, fontsize=30,\n",
    "            verticalalignment='top', horizontalalignment='right', bbox=dict(facecolor='white', alpha=0.8))\n",
    "\n",
    "    plt.tight_layout()\n",
    "    plt.savefig(f\"Figures/Fig2/{viruses[i]}_Gradients.svg\")\n",
    "    plt.show()   \n",
    "    \n",
    "    \n",
    "    "
   ]
  },
  {
   "cell_type": "code",
   "execution_count": null,
   "id": "f57360d0",
   "metadata": {},
   "outputs": [],
   "source": [
    "\n",
    "# Compile all fit stats into a single file\n",
    "\n",
    "dfs = pd.DataFrame()\n",
    "for i in range(len(viruses)):\n",
    "    df = pd.read_csv((f\"File2-Top_100_Fit_Stats_simple_model/{viruses[i]}_fits.csv\"))\n",
    "    dfs = pd.concat([dfs, df])\n",
    "dfs.iloc[:,0] = viruses\n",
    "dfs.index = viruses\n",
    "print(1 / (1-dfs.iloc[:,1]))\n",
    "dfs.iloc[:,2] = dfs.iloc[:,2].apply(lambda x: '{:.2e}'.format(x))\n",
    "dfs.iloc[:,-1] = dfs.iloc[:,-1].apply(lambda x: '{:.2e}'.format(x))\n",
    "dfs = dfs.round(5)\n",
    "dfs.iloc[:, 0] = [\"p(walk)\"] * len(dfs.iloc[:, 0])\n",
    "dfs.columns = [\"Parameter\"] + list(dfs.columns)[1:]\n",
    "dfs.to_csv(\"File2-Top_100_Fit_Stats_simple_model/All_Viruses_Simple_Gradient.csv\")\n",
    "dfs"
   ]
  },
  {
   "cell_type": "code",
   "execution_count": null,
   "id": "ddf0ae98",
   "metadata": {},
   "outputs": [],
   "source": []
  }
 ],
 "metadata": {
  "kernelspec": {
   "display_name": "Python 3",
   "language": "python",
   "name": "python3"
  },
  "language_info": {
   "codemirror_mode": {
    "name": "ipython",
    "version": 3
   },
   "file_extension": ".py",
   "mimetype": "text/x-python",
   "name": "python",
   "nbconvert_exporter": "python",
   "pygments_lexer": "ipython3",
   "version": "3.8.8"
  }
 },
 "nbformat": 4,
 "nbformat_minor": 5
}
