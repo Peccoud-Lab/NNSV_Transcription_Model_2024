{
 "cells": [
  {
   "cell_type": "code",
   "execution_count": 1,
   "id": "04a5d510",
   "metadata": {},
   "outputs": [],
   "source": [
    "import numpy as np\n",
    "from scipy.optimize import minimize\n",
    "import matplotlib.pyplot as plt\n",
    "import itertools\n",
    "import pandas as pd\n",
    "import scipy\n",
    "from tqdm.notebook import tqdm  "
   ]
  },
  {
   "cell_type": "code",
   "execution_count": 2,
   "id": "6abb3db8",
   "metadata": {},
   "outputs": [
    {
     "data": {
      "text/plain": [
       "array([0.39215686, 0.26666667, 0.18823529, 0.1254902 , 0.02745098])"
      ]
     },
     "execution_count": 2,
     "metadata": {},
     "output_type": "execute_result"
    }
   ],
   "source": [
    "\n",
    "train_data = np.array([1,.68,.48,.32,.07])\n",
    "train_data = train_data/np.sum(train_data)\n",
    "train_data\n"
   ]
  },
  {
   "cell_type": "code",
   "execution_count": 3,
   "id": "e7e9673d",
   "metadata": {},
   "outputs": [],
   "source": [
    "# Gene orders of variants from 2 datasets with DOIs\n",
    "pmg_combos = np.array([[1,2,3,4,5],[1,4,2,3,5],[1,3,4,2,5],[1,4,3,2,5],[1,2,4,3,5],[1,3,2,4,5]]) # 10.1128/jvi.73.6.4705-4712.1999\n",
    "\n",
    "ng_combos = np.array([[1,2,3,4,5],[2, 3, 4, 1, 5], [4,1,2,3,5], [4,2,3,1,5]]) # 10.1128/jvi.74.17.7895-7902.2000\n",
    "\n",
    "\n"
   ]
  },
  {
   "cell_type": "code",
   "execution_count": 4,
   "id": "ed6392d7",
   "metadata": {},
   "outputs": [],
   "source": [
    "# set genome positions for each variant\n",
    "gene_lengths = np.array([1325, 813, 830, 1664, 6372])\n",
    "\n",
    "pmg_lenpos = []\n",
    "for pos_pre in pmg_combos:\n",
    "    pos = pos_pre\n",
    "    gene_len_temp = [gene_lengths[i-1] for i in pos]\n",
    "    genome_pos = [np.sum(gene_len_temp[0:i]) + (i-1) * 10 for i in pos]\n",
    "    genome_pos = np.array(genome_pos - np.min(genome_pos))\n",
    "    pmg_lenpos.append(genome_pos)\n",
    "    \n",
    "ng_lenpos = []\n",
    "for pos_pre in ng_combos:\n",
    "    pos = pos_pre\n",
    "    gene_len_temp = [gene_lengths[i-1] for i in pos]\n",
    "    genome_pos = [np.sum(gene_len_temp[0:i]) + (i-1) * 10 for i in pos]\n",
    "    genome_pos = np.array(genome_pos - np.min(genome_pos))\n",
    "    ng_lenpos.append(genome_pos)\n",
    "\n",
    "    "
   ]
  },
  {
   "cell_type": "code",
   "execution_count": 5,
   "id": "ddcb7fe6",
   "metadata": {},
   "outputs": [],
   "source": [
    "ng_data = np.array([[0.282, 0.195, 0.252, 0.251, 0.02 ],\n",
    "                    [0.162, 0.118, 0.135, 0.578, 0.007],\n",
    "                    [0.151, 0.271, 0.354, 0.21 , 0.014],\n",
    "                    [0.108, 0.182, 0.284, 0.415, 0.011]])"
   ]
  },
  {
   "cell_type": "code",
   "execution_count": 6,
   "id": "a166e5b3",
   "metadata": {},
   "outputs": [
    {
     "data": {
      "text/plain": [
       "0.9997023665202216"
      ]
     },
     "execution_count": 6,
     "metadata": {},
     "output_type": "execute_result"
    }
   ],
   "source": [
    "p = pd.read_csv(\"Folder1-Parameter_Fits/all_viruses_best_fits.csv\").iloc[0, -3]\n",
    "p"
   ]
  },
  {
   "cell_type": "code",
   "execution_count": 7,
   "id": "10ecf7b3",
   "metadata": {},
   "outputs": [
    {
     "data": {
      "text/plain": [
       "[array([0.35486196, 0.27775517, 0.21630527, 0.13141735, 0.01966024]),\n",
       " array([0.2975265 , 0.18076371, 0.12148501, 0.38205044, 0.01817435]),\n",
       " array([0.15348429, 0.37466646, 0.25180031, 0.19708745, 0.02296149]),\n",
       " array([0.14307611, 0.27336993, 0.21289021, 0.34925934, 0.02140441])]"
      ]
     },
     "execution_count": 7,
     "metadata": {},
     "output_type": "execute_result"
    }
   ],
   "source": [
    "\n",
    "ng_RAM_preds = []\n",
    "for i in range(0, ng_data.shape[0]):\n",
    "    labmda_pred = np.array([p**x for x in ng_lenpos[i]])\n",
    "    labmda_pred = labmda_pred/np.sum(labmda_pred)\n",
    "    ng_RAM_preds.append(labmda_pred)\n",
    "ng_RAM_preds\n"
   ]
  },
  {
   "cell_type": "code",
   "execution_count": 8,
   "id": "501f1ee5",
   "metadata": {},
   "outputs": [],
   "source": [
    "pmg_data = np.array([[100, 81.5, 73.0, 58.8 ,2.6],\n",
    "                     [100, 53.3, 97.1, 87.1, 4.1],\n",
    "                     [100, 75.3, 78.5, 99, 4.7],\n",
    "                     [100, 57.5, 71.6, 99, 1.7],\n",
    "                     [100, 89.1, 70.1, 92.5, 2.9],\n",
    "                     [100, 74.9, 99, 70.7, 3.4]]).T\n",
    "pmg_data = (pmg_data/np.sum(pmg_data, axis = 0)).T\n"
   ]
  },
  {
   "cell_type": "code",
   "execution_count": 9,
   "id": "584274a7",
   "metadata": {},
   "outputs": [
    {
     "data": {
      "text/plain": [
       "[array([0.35486196, 0.27775517, 0.21630527, 0.13141735, 0.01966024]),\n",
       " array([0.39859177, 0.14761197, 0.24216641, 0.18954687, 0.02208298]),\n",
       " array([0.37346326, 0.17670076, 0.13830604, 0.29083913, 0.0206908 ]),\n",
       " array([0.3989735 , 0.14775334, 0.1887707 , 0.24239833, 0.02210413]),\n",
       " array([0.37257951, 0.29162293, 0.13797875, 0.17717697, 0.02064184]),\n",
       " array([0.35536019, 0.21660897, 0.27674114, 0.13160186, 0.01968785])]"
      ]
     },
     "execution_count": 9,
     "metadata": {},
     "output_type": "execute_result"
    }
   ],
   "source": [
    "\n",
    "pmg_RAM_preds = []\n",
    "for i in range(0, pmg_data.shape[0]):\n",
    "    labmda_pred = np.array([p**x for x in pmg_lenpos[i]])\n",
    "    labmda_pred = labmda_pred/np.sum(labmda_pred)\n",
    "    pmg_RAM_preds.append(labmda_pred)\n",
    "pmg_RAM_preds\n"
   ]
  },
  {
   "cell_type": "code",
   "execution_count": 12,
   "id": "214dd047",
   "metadata": {},
   "outputs": [],
   "source": [
    "variants = [\"NPMGL (WT)\", \"NMGPL\", \"NGPML\", \"NGMPL\", \"NPGML\", \"NMPGL\"] \n",
    "variants += [\"NPMGL (WT)\", \"GNPML\", \"PMGNL\", \"GPMNL\"]\n",
    "Dataset_DOIs = [\"10.1128/jvi.73.6.4705-4712.1999\"] * 6 + [\"10.1128/jvi.74.17.7895-7902.2000\"] * 4\n",
    "\n",
    "\n",
    "data_df = pd.DataFrame(list(pmg_data) + list(ng_data))\n",
    "\n",
    "data_df = pd.concat([pd.DataFrame(variants),data_df, pd.DataFrame(Dataset_DOIs)], axis = 1)\n",
    "\n",
    "data_df.columns = [\"Variant\", \"N\", \"P\", \"M\", \"G\", \"L\", \"Dataset\"]\n",
    "\n",
    "data_df.to_csv(\"/prot_expression_ratio_data.csv\")\n"
   ]
  },
  {
   "cell_type": "code",
   "execution_count": 11,
   "id": "0389dece",
   "metadata": {},
   "outputs": [
    {
     "data": {
      "text/html": [
       "<div>\n",
       "<style scoped>\n",
       "    .dataframe tbody tr th:only-of-type {\n",
       "        vertical-align: middle;\n",
       "    }\n",
       "\n",
       "    .dataframe tbody tr th {\n",
       "        vertical-align: top;\n",
       "    }\n",
       "\n",
       "    .dataframe thead th {\n",
       "        text-align: right;\n",
       "    }\n",
       "</style>\n",
       "<table border=\"1\" class=\"dataframe\">\n",
       "  <thead>\n",
       "    <tr style=\"text-align: right;\">\n",
       "      <th></th>\n",
       "      <th>Variant</th>\n",
       "      <th>N</th>\n",
       "      <th>P</th>\n",
       "      <th>M</th>\n",
       "      <th>G</th>\n",
       "      <th>L</th>\n",
       "    </tr>\n",
       "  </thead>\n",
       "  <tbody>\n",
       "    <tr>\n",
       "      <th>0</th>\n",
       "      <td>NPMGL (WT)</td>\n",
       "      <td>0.354862</td>\n",
       "      <td>0.277755</td>\n",
       "      <td>0.216305</td>\n",
       "      <td>0.131417</td>\n",
       "      <td>0.019660</td>\n",
       "    </tr>\n",
       "    <tr>\n",
       "      <th>1</th>\n",
       "      <td>NMGPL</td>\n",
       "      <td>0.398592</td>\n",
       "      <td>0.147612</td>\n",
       "      <td>0.242166</td>\n",
       "      <td>0.189547</td>\n",
       "      <td>0.022083</td>\n",
       "    </tr>\n",
       "    <tr>\n",
       "      <th>2</th>\n",
       "      <td>NGPML</td>\n",
       "      <td>0.373463</td>\n",
       "      <td>0.176701</td>\n",
       "      <td>0.138306</td>\n",
       "      <td>0.290839</td>\n",
       "      <td>0.020691</td>\n",
       "    </tr>\n",
       "    <tr>\n",
       "      <th>3</th>\n",
       "      <td>NGMPL</td>\n",
       "      <td>0.398973</td>\n",
       "      <td>0.147753</td>\n",
       "      <td>0.188771</td>\n",
       "      <td>0.242398</td>\n",
       "      <td>0.022104</td>\n",
       "    </tr>\n",
       "    <tr>\n",
       "      <th>4</th>\n",
       "      <td>NPGML</td>\n",
       "      <td>0.372580</td>\n",
       "      <td>0.291623</td>\n",
       "      <td>0.137979</td>\n",
       "      <td>0.177177</td>\n",
       "      <td>0.020642</td>\n",
       "    </tr>\n",
       "    <tr>\n",
       "      <th>5</th>\n",
       "      <td>NMPGL</td>\n",
       "      <td>0.355360</td>\n",
       "      <td>0.216609</td>\n",
       "      <td>0.276741</td>\n",
       "      <td>0.131602</td>\n",
       "      <td>0.019688</td>\n",
       "    </tr>\n",
       "    <tr>\n",
       "      <th>6</th>\n",
       "      <td>NPMGL (WT)</td>\n",
       "      <td>0.354862</td>\n",
       "      <td>0.277755</td>\n",
       "      <td>0.216305</td>\n",
       "      <td>0.131417</td>\n",
       "      <td>0.019660</td>\n",
       "    </tr>\n",
       "    <tr>\n",
       "      <th>7</th>\n",
       "      <td>GNPML</td>\n",
       "      <td>0.297527</td>\n",
       "      <td>0.180764</td>\n",
       "      <td>0.121485</td>\n",
       "      <td>0.382050</td>\n",
       "      <td>0.018174</td>\n",
       "    </tr>\n",
       "    <tr>\n",
       "      <th>8</th>\n",
       "      <td>PMGNL</td>\n",
       "      <td>0.153484</td>\n",
       "      <td>0.374666</td>\n",
       "      <td>0.251800</td>\n",
       "      <td>0.197087</td>\n",
       "      <td>0.022961</td>\n",
       "    </tr>\n",
       "    <tr>\n",
       "      <th>9</th>\n",
       "      <td>GPMNL</td>\n",
       "      <td>0.143076</td>\n",
       "      <td>0.273370</td>\n",
       "      <td>0.212890</td>\n",
       "      <td>0.349259</td>\n",
       "      <td>0.021404</td>\n",
       "    </tr>\n",
       "  </tbody>\n",
       "</table>\n",
       "</div>"
      ],
      "text/plain": [
       "      Variant         N         P         M         G         L\n",
       "0  NPMGL (WT)  0.354862  0.277755  0.216305  0.131417  0.019660\n",
       "1       NMGPL  0.398592  0.147612  0.242166  0.189547  0.022083\n",
       "2       NGPML  0.373463  0.176701  0.138306  0.290839  0.020691\n",
       "3       NGMPL  0.398973  0.147753  0.188771  0.242398  0.022104\n",
       "4       NPGML  0.372580  0.291623  0.137979  0.177177  0.020642\n",
       "5       NMPGL  0.355360  0.216609  0.276741  0.131602  0.019688\n",
       "6  NPMGL (WT)  0.354862  0.277755  0.216305  0.131417  0.019660\n",
       "7       GNPML  0.297527  0.180764  0.121485  0.382050  0.018174\n",
       "8       PMGNL  0.153484  0.374666  0.251800  0.197087  0.022961\n",
       "9       GPMNL  0.143076  0.273370  0.212890  0.349259  0.021404"
      ]
     },
     "execution_count": 11,
     "metadata": {},
     "output_type": "execute_result"
    }
   ],
   "source": [
    "preds_df = pd.DataFrame(list(pmg_RAM_preds) + list(ng_RAM_preds))\n",
    "\n",
    "preds_df = pd.concat([pd.DataFrame(variants),preds_df], axis = 1)\n",
    "\n",
    "preds_df.columns = [\"Variant\", \"N\", \"P\", \"M\", \"G\", \"L\"]\n",
    "\n",
    "preds_df.to_csv(\"prot_expression_ratio_data.csv\")"
   ]
  }
 ],
 "metadata": {
  "kernelspec": {
   "display_name": "Python 3",
   "language": "python",
   "name": "python3"
  },
  "language_info": {
   "codemirror_mode": {
    "name": "ipython",
    "version": 3
   },
   "file_extension": ".py",
   "mimetype": "text/x-python",
   "name": "python",
   "nbconvert_exporter": "python",
   "pygments_lexer": "ipython3",
   "version": "3.8.8"
  }
 },
 "nbformat": 4,
 "nbformat_minor": 5
}
