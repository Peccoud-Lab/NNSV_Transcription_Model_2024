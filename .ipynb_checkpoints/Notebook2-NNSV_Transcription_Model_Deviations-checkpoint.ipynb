{
 "cells": [
  {
   "cell_type": "code",
   "execution_count": 1,
   "id": "59ab452e",
   "metadata": {},
   "outputs": [],
   "source": [
    "import numpy as np\n",
    "from scipy.optimize import minimize\n",
    "import matplotlib.pyplot as plt\n",
    "import itertools\n",
    "import pandas as pd"
   ]
  },
  {
   "cell_type": "code",
   "execution_count": 2,
   "id": "78d3f42b",
   "metadata": {},
   "outputs": [],
   "source": [
    "RSV1_data_mean_norm = np.array([0.109, 0.167, 0.125, 0.140, 0.109, 0.093, 0.139, 0.062, 0.053, 0.005])/np.sum([0.109, 0.167, 0.125, 0.140, 0.109, 0.093, 0.139, 0.062, 0.053, 0.005])\n",
    "# RSV Gradient from Rajan et al\n",
    "\n"
   ]
  },
  {
   "cell_type": "code",
   "execution_count": 3,
   "id": "97990f90",
   "metadata": {},
   "outputs": [
    {
     "data": {
      "text/plain": [
       "array([2.59397817e-01, 1.67528945e-01, 1.07194138e-01, 1.40843727e-01,\n",
       "       1.13468605e-01, 5.60103269e-02, 4.73593395e-02, 5.02278547e-02,\n",
       "       5.78807745e-02, 8.84720595e-05])"
      ]
     },
     "execution_count": 3,
     "metadata": {},
     "output_type": "execute_result"
    }
   ],
   "source": [
    "RSV2_data = np.array([[19.19,18.13,19.16], # RSV Gradient from Donovan-Banfield et al\n",
    "          [15.26,10.23,10.67],\n",
    "          [3.54,10.6,9.71],\n",
    "          [9.5,11.06,10.23],\n",
    "          [6.57, 9.63, 8.73],\n",
    "          [4.02,4.01,4.18],\n",
    "          [3.88,3.11,3.28],\n",
    "          [2.32,4.89,3.90],\n",
    "          [3.50,4.82,4.38],\n",
    "          [0,.01,.01]])\n",
    "RSV2_data =RSV2_data/np.sum(RSV2_data, axis = 0)\n",
    "RSV2_data_mean = np.mean(RSV2_data,axis = 1)\n",
    "RSV2_data_sd = np.std(RSV2_data,axis = 1)\n",
    "RSV2_data_mean_norm = RSV2_data_mean/np.sum(RSV2_data_mean)\n",
    "RSV2_data_sd_norm = RSV2_data_sd/np.sum(RSV2_data_mean)\n",
    "RSV2_data_mean_norm\n",
    "\n"
   ]
  },
  {
   "cell_type": "code",
   "execution_count": 4,
   "id": "cf88faa1",
   "metadata": {},
   "outputs": [],
   "source": [
    "# define list of virus names\n",
    "viruses = [\"RSV1\", \"RSV2\"]\n",
    "\n",
    "# define list of virus genes and their orders\n",
    "virus_gene_names = [[\"NS1\", \"NS2\", \"N\", \"P\", \"M\", \"SH\", \"G\", \"F\", \"M2\", \"L\"],\n",
    "    [\"NS1\", \"NS2\", \"N\", \"P\", \"M\", \"SH\", \"G\", \"F\", \"M2\", \"L\"]]\n",
    "# define list of mean expression of each gene for each virus\n",
    "virus_means = [RSV1_data_mean_norm, RSV2_data_mean_norm]\n",
    "\n",
    "# define list of sd of expression of each gene for each virus. 0 implies that this was not available\n",
    "virus_sd = [[0,0,0,0,0,0,0,0,0,0], RSV2_data_sd_norm]\n",
    "\n",
    "\n"
   ]
  },
  {
   "cell_type": "code",
   "execution_count": 5,
   "id": "175a17e5",
   "metadata": {},
   "outputs": [],
   "source": [
    "# define lists of position of gene stop signal for each gene\n",
    "RSV_genome_pos = np.array([577,1097,2327,3243,4207,4629,5653,7605,8620,15132])\n",
    "RSV_genome_pos = np.array(RSV_genome_pos - np.min(RSV_genome_pos))\n",
    "RSV_genome_pos\n",
    "virus_genome_pos = [RSV_genome_pos, RSV_genome_pos]\n",
    "\n"
   ]
  },
  {
   "cell_type": "code",
   "execution_count": 6,
   "id": "540621f7",
   "metadata": {},
   "outputs": [],
   "source": [
    "# objective function for fitting model\n",
    "\n",
    "def obj_fun(x):\n",
    "    p = x[0]\n",
    "    ptranscs = x[1:]\n",
    "    ptransc_diff = [0,2,6,8]\n",
    "    pred = np.array([p**x * ptranscs[0]  for x in genome_pos])\n",
    "    for i in range(4):\n",
    "        pred[ptransc_diff[i]] = ( pred[ptransc_diff[i]] / ptranscs[0]) * ptranscs[i+1]\n",
    "    pred[1] = ( pred[1] / ptranscs[0]) * ptranscs[2]\n",
    "    pred[-1] =  pred[-1] * (1-ptranscs[0])\n",
    "    pred_norm = pred/np.sum(pred)\n",
    "    mse = np.mean(( ( pred_norm-data_norm )/data_norm_sd )**2)\n",
    "    return mse\n",
    "\n"
   ]
  },
  {
   "cell_type": "code",
   "execution_count": 7,
   "id": "e50d2dfd",
   "metadata": {},
   "outputs": [
    {
     "name": "stdout",
     "output_type": "stream",
     "text": [
      "0\n"
     ]
    },
    {
     "name": "stderr",
     "output_type": "stream",
     "text": [
      "<ipython-input-6-6b404bcc6dd7>:7: RuntimeWarning: invalid value encountered in scalar divide\n",
      "  pred[ptransc_diff[i]] = ( pred[ptransc_diff[i]] / ptranscs[0]) * ptranscs[i+1]\n",
      "<ipython-input-6-6b404bcc6dd7>:8: RuntimeWarning: invalid value encountered in scalar divide\n",
      "  pred[1] = ( pred[1] / ptranscs[0]) * ptranscs[2]\n",
      "<ipython-input-6-6b404bcc6dd7>:10: RuntimeWarning: invalid value encountered in divide\n",
      "  pred_norm = pred/np.sum(pred)\n"
     ]
    },
    {
     "name": "stdout",
     "output_type": "stream",
     "text": [
      "10000\n",
      "20000\n",
      "30000\n",
      "40000\n",
      "50000\n",
      "60000\n",
      "70000\n",
      "80000\n",
      "90000\n",
      "RSV1\n",
      "0\n",
      "10000\n",
      "20000\n",
      "30000\n",
      "40000\n",
      "50000\n",
      "60000\n",
      "70000\n",
      "80000\n",
      "90000\n",
      "RSV2\n"
     ]
    }
   ],
   "source": [
    "# iterate through each virus and fit the model 100,000 times starting at random positions.\n",
    "\n",
    "all_fits = []\n",
    "all_funcs = []\n",
    "for j in range(len(viruses)):\n",
    "    fits = []\n",
    "    funcs = []\n",
    "    data_norm = np.array(virus_means[j])\n",
    "    genome_pos = virus_genome_pos[j]\n",
    "    #if j == 0:\n",
    "    data_norm_sd = np.array([1] * len(virus_means[j]))\n",
    "    #else:\n",
    "     #   data_norm_sd = np.array(virus_sd[j])\n",
    "    for i in range(100000):\n",
    "        res = minimize(obj_fun, np.random.random(6), bounds = [[0, 1]], tol = 1e-20)\n",
    "        fits.append(res.x)\n",
    "        funcs.append(res.fun)\n",
    "        if i % 10000 == 0:\n",
    "            print(i)\n",
    "    all_fits.append(fits)\n",
    "    all_funcs.append(funcs)\n",
    "    print(viruses[j])\n",
    "all_fits = np.array(all_fits)\n"
   ]
  },
  {
   "cell_type": "code",
   "execution_count": 8,
   "id": "8bc876b0",
   "metadata": {},
   "outputs": [],
   "source": [
    "# save fits and then generate and save a file with the \n",
    "# statistics assocaited with the top 100 fits for each virus\n",
    "\n",
    "for i in range(len(viruses)):\n",
    "    df = pd.concat( [pd.DataFrame(all_fits[i]) , pd.DataFrame(all_funcs[i])], axis = 1)\n",
    "    df.columns = [\"p(walk)\", \"ptransc\", \"ptransc(NS1)\", \"ptransc(NS2, N)\", \"ptransc(G)\",\"ptransc(L)\", \"NMSE\"]\n",
    "    df.to_csv(f\"File1-All_Parameter_Fits/{viruses[i]}_fits.csv\")\n",
    "    df = df.loc[np.array(df.iloc[:,-1]) > 0 ]\n",
    "    df = df.loc[np.array(df.iloc[:,-1]) < np.quantile(np.array(df.iloc[:,-1]), 100/len(df.loc[np.array(df.iloc[:,-1]) > 0 ]))]\n",
    "    df_stats = pd.DataFrame([np.mean(df.iloc[:,:-1], axis = 0), np.std(df.iloc[:,:-1], axis = 0), np.max(df.iloc[:,:-1], axis = 0), np.min(df.iloc[:,:-1], axis = 0), df[df.iloc[:,-1] == np.min(df.iloc[:,-1])].iloc[0,:-1]]).T\n",
    "    df_stats.columns = [\"Mean of Top 100 Fit Estimates\", \"Std of Top 100 Fit Estimates\", \"Max of Top 100 Fit Estimates\", \"Min of Top 100 Fit Estimates\", \"Best Fit Estimate\"]\n",
    "    df_stats.index = [\"p(walk)\", \"ptransc\", \"ptransc(NS1)\", \"ptransc(NS2, N)\", \"ptransc(G)\", \"ptransc(L)\"]\n",
    "    df_stats.to_csv(f\"File2-Top_100_Fit_Stats/{viruses[i]}_fits2.csv\")\n",
    "    \n",
    "    \n"
   ]
  },
  {
   "cell_type": "code",
   "execution_count": 9,
   "id": "289e53f2",
   "metadata": {},
   "outputs": [],
   "source": [
    "# Get the best fit parameter\n",
    "\n",
    "dfs = pd.DataFrame()\n",
    "for i in range(len(viruses)):\n",
    "    df = pd.read_csv((f\"File2-Top_100_Fit_Stats/{viruses[i]}_fits2.csv\"))\n",
    "    dfs = pd.concat([dfs, df])\n",
    "best_fit_pars = dfs.iloc[:,-1]\n",
    "best_fit_pars = [best_fit_pars[0:6], best_fit_pars[6:]]"
   ]
  },
  {
   "cell_type": "code",
   "execution_count": 13,
   "id": "4df972c3",
   "metadata": {},
   "outputs": [
    {
     "data": {
      "image/png": "[encoded data removed]",
      "text/plain": [
       "<Figure size 720x432 with 1 Axes>"
      ]
     },
     "metadata": {
      "needs_background": "light"
     },
     "output_type": "display_data"
    },
    {
     "data": {
      "image/png": "[encoded data removed]",
      "text/plain": [
       "<Figure size 720x432 with 1 Axes>"
      ]
     },
     "metadata": {
      "needs_background": "light"
     },
     "output_type": "display_data"
    }
   ],
   "source": [
    "# Generate barplots of observed gradients and predicted gradients\n",
    "\n",
    "for i in range(len(viruses)):\n",
    "    genome_pos = virus_genome_pos[i]    \n",
    "    pars = best_fit_pars[i]\n",
    "    ptransc_diff = [0,2,6,8]\n",
    "    pred = np.array([pars[0]**x * pars[1] for x in genome_pos])\n",
    "    for j in range(4):\n",
    "        pred[ptransc_diff[j]] = ( pred[ptransc_diff[j]] / pars[1]) * pars[j+2]\n",
    "    pred[1] = ( pred[1] / pars[1]) * pars[3]\n",
    "    pred[-1] =  pred[-1] * (1-pars[1])   \n",
    "    pred_norm = pred/np.sum(pred)\n",
    "    categories = virus_gene_names[i]\n",
    "    indices = np.arange(len(categories))\n",
    "    # Create figure and axis\n",
    "    fig, ax = plt.subplots(figsize=(10, 6))\n",
    "    # Create bars\n",
    "    bar_width = 0.35\n",
    "    ax.set_title(f'{viruses[i]}', fontsize=28)\n",
    "    # Create bars for virus_means[i]\n",
    "    ax.bar(indices - bar_width/2, virus_means[i], width=bar_width, yerr= 2 * np.array(virus_sd[i]), color='#0072B2', edgecolor='black', label='Observed Ratio')\n",
    "    # Increase y-axis label size\n",
    "    ax.tick_params(axis='y', labelsize=18)\n",
    "    # Create bars for pred_norm\n",
    "    ax.bar(indices + bar_width/2, pred_norm, width=bar_width, color='red', edgecolor='black', label='Model Predictions')\n",
    "    # Set legend with improved positioning and styling\n",
    "    ax.legend(loc='best', fontsize=20, frameon=True, shadow=True)\n",
    "    # Set labels, title, and ticks\n",
    "    ax.set_xticks(indices)\n",
    "    plt.ylim([0,.52])\n",
    "    ax.set_xticklabels(categories, fontsize=20)\n",
    "    ax.set_ylabel('Proportion of Total Viral mRNA', fontsize=20)\n",
    "    ax.set_xlabel('Gene', fontsize=20)\n",
    "    ax.grid(True, which='both', axis='y', linestyle='--', linewidth=0.5)\n",
    "    plt.tight_layout()\n",
    "    plt.savefig(f\"Figures/Fig2/{viruses[i]}_Gradients.svg\")\n",
    "    plt.show()   \n",
    "    \n",
    "    \n",
    "    "
   ]
  },
  {
   "cell_type": "code",
   "execution_count": 14,
   "id": "340d8ae0",
   "metadata": {},
   "outputs": [],
   "source": [
    "\n",
    "# calculate the mean decrease in transcription as a result of the gene-overlapping effect\n",
    "\n",
    "ps_overlap = []\n",
    "ps_no = []\n",
    "for i in range(len(viruses)):\n",
    "    genome_pos = virus_genome_pos[i]    \n",
    "    pars = best_fit_pars[i]\n",
    "    ptransc_diff = [0,2,6]\n",
    "    pred = np.array([pars[0]**x * pars[1] for x in genome_pos])\n",
    "    for j in range(3):\n",
    "        pred[ptransc_diff[j]] = ( pred[ptransc_diff[j]] / pars[1]) * pars[j+2]\n",
    "    pred[1] = ( pred[1] / pars[1]) * pars[3]\n",
    "    pred_norm = pred/np.sum(pred)\n",
    "    ps_no.append(pred_norm)\n",
    "    pred[-1] =  pred[-1] * (1-pars[1])   \n",
    "    pred_norm = pred/np.sum(pred)\n",
    "    ps_overlap.append(pred_norm)\n",
    "\n",
    "data = [ps_overlap[1][-1]/ps_no[1][-1], ps_overlap[0][-1]/ps_no[0][-1]]\n",
    "np.mean(data)\n"
   ]
  },
  {
   "cell_type": "code",
   "execution_count": 1,
   "id": "cf8d58b7",
   "metadata": {},
   "outputs": [
    {
     "ename": "NameError",
     "evalue": "name 'itertools' is not defined",
     "output_type": "error",
     "traceback": [
      "\u001b[0;31m---------------------------------------------------------------------------\u001b[0m",
      "\u001b[0;31mNameError\u001b[0m                                 Traceback (most recent call last)",
      "\u001b[0;32m<ipython-input-1-343a9ce56bd4>\u001b[0m in \u001b[0;36m<module>\u001b[0;34m\u001b[0m\n\u001b[1;32m      1\u001b[0m \u001b[0;31m# calculate the number of variants possible from shuffling and overlapping genes\u001b[0m\u001b[0;34m\u001b[0m\u001b[0;34m\u001b[0m\u001b[0;34m\u001b[0m\u001b[0m\n\u001b[0;32m----> 2\u001b[0;31m \u001b[0mpos_combos\u001b[0m \u001b[0;34m=\u001b[0m \u001b[0mlist\u001b[0m\u001b[0;34m(\u001b[0m\u001b[0mitertools\u001b[0m\u001b[0;34m.\u001b[0m\u001b[0mpermutations\u001b[0m\u001b[0;34m(\u001b[0m\u001b[0;34m[\u001b[0m\u001b[0;36m1\u001b[0m\u001b[0;34m,\u001b[0m\u001b[0;36m2\u001b[0m\u001b[0;34m,\u001b[0m\u001b[0;34m-\u001b[0m\u001b[0;36m2\u001b[0m\u001b[0;34m,\u001b[0m\u001b[0;34m-\u001b[0m\u001b[0;36m3\u001b[0m\u001b[0;34m,\u001b[0m\u001b[0;36m3\u001b[0m\u001b[0;34m,\u001b[0m\u001b[0;34m-\u001b[0m\u001b[0;36m4\u001b[0m\u001b[0;34m,\u001b[0m\u001b[0;36m4\u001b[0m\u001b[0;34m,\u001b[0m\u001b[0;34m-\u001b[0m\u001b[0;36m5\u001b[0m\u001b[0;34m,\u001b[0m\u001b[0;36m5\u001b[0m\u001b[0;34m]\u001b[0m\u001b[0;34m,\u001b[0m \u001b[0;36m5\u001b[0m\u001b[0;34m)\u001b[0m\u001b[0;34m)\u001b[0m\u001b[0;34m\u001b[0m\u001b[0;34m\u001b[0m\u001b[0m\n\u001b[0m\u001b[1;32m      3\u001b[0m \u001b[0mpos_combos\u001b[0m \u001b[0;34m=\u001b[0m \u001b[0mnp\u001b[0m\u001b[0;34m.\u001b[0m\u001b[0marray\u001b[0m\u001b[0;34m(\u001b[0m\u001b[0mpos_combos\u001b[0m\u001b[0;34m)\u001b[0m\u001b[0;34m\u001b[0m\u001b[0;34m\u001b[0m\u001b[0m\n\u001b[1;32m      4\u001b[0m \u001b[0mpos_combos\u001b[0m \u001b[0;34m=\u001b[0m \u001b[0mpos_combos\u001b[0m\u001b[0;34m[\u001b[0m\u001b[0mnp\u001b[0m\u001b[0;34m.\u001b[0m\u001b[0msum\u001b[0m\u001b[0;34m(\u001b[0m\u001b[0mpos_combos\u001b[0m\u001b[0;34m**\u001b[0m\u001b[0;36m2\u001b[0m\u001b[0;34m,\u001b[0m\u001b[0maxis\u001b[0m \u001b[0;34m=\u001b[0m \u001b[0;36m1\u001b[0m\u001b[0;34m)\u001b[0m \u001b[0;34m==\u001b[0m \u001b[0;36m55\u001b[0m\u001b[0;34m]\u001b[0m\u001b[0;34m\u001b[0m\u001b[0;34m\u001b[0m\u001b[0m\n\u001b[1;32m      5\u001b[0m \u001b[0mlen\u001b[0m\u001b[0;34m(\u001b[0m\u001b[0mpos_combos\u001b[0m\u001b[0;34m)\u001b[0m\u001b[0;34m\u001b[0m\u001b[0;34m\u001b[0m\u001b[0m\n",
      "\u001b[0;31mNameError\u001b[0m: name 'itertools' is not defined"
     ]
    }
   ],
   "source": [
    "# calculate the number of variants possible from shuffling and overlapping genes\n",
    "pos_combos = list(itertools.permutations([1,2,-2,-3,3,-4,4,-5,5], 5))\n",
    "pos_combos = np.array(pos_combos)\n",
    "pos_combos = pos_combos[np.sum(pos_combos**2,axis = 1) == 55]\n",
    "len(pos_combos)"
   ]
  }
 ],
 "metadata": {
  "kernelspec": {
   "display_name": "Python 3",
   "language": "python",
   "name": "python3"
  },
  "language_info": {
   "codemirror_mode": {
    "name": "ipython",
    "version": 3
   },
   "file_extension": ".py",
   "mimetype": "text/x-python",
   "name": "python",
   "nbconvert_exporter": "python",
   "pygments_lexer": "ipython3",
   "version": "3.8.8"
  }
 },
 "nbformat": 4,
 "nbformat_minor": 5
}
