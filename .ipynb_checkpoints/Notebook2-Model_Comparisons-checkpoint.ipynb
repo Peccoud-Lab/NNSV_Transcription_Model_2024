{
 "cells": [
  {
   "cell_type": "code",
   "execution_count": null,
   "id": "04a5d510",
   "metadata": {},
   "outputs": [],
   "source": [
    "import numpy as np\n",
    "from scipy.optimize import minimize\n",
    "import matplotlib.pyplot as plt\n",
    "import itertools\n",
    "import pandas as pd\n",
    "import scipy\n",
    "from tqdm.notebook import tqdm  "
   ]
  },
  {
   "cell_type": "code",
   "execution_count": null,
   "id": "e7e9673d",
   "metadata": {},
   "outputs": [],
   "source": [
    "# Gene orders of variants from dataset\n",
    "ng_combos = np.array([[1,2,3,4,5],[2, 3, 4, 1, 5], [4,1,2,3,5], [4,2,3,1,5]])\n",
    "\n",
    "\n"
   ]
  },
  {
   "cell_type": "code",
   "execution_count": null,
   "id": "ed6392d7",
   "metadata": {},
   "outputs": [],
   "source": [
    "# set genome positions for each variant\n",
    "gene_lengths = np.array([1325, 813, 830, 1664, 6372])\n",
    "    \n",
    "ng_lenpos = []\n",
    "for pos_pre in ng_combos:\n",
    "    pos = pos_pre\n",
    "    gene_len_temp = [gene_lengths[i-1] for i in pos]\n",
    "    genome_pos = [np.sum(gene_len_temp[0:i]) + (i-1) * 10 for i in pos]\n",
    "    genome_pos = np.array(genome_pos - np.min(genome_pos))\n",
    "    ng_lenpos.append(genome_pos)\n",
    "\n",
    "    "
   ]
  },
  {
   "cell_type": "code",
   "execution_count": null,
   "id": "ae328008",
   "metadata": {},
   "outputs": [],
   "source": [
    "# 10.1128/JVI.76.14.6865-6872.2002 VSV protein masses\n",
    "# typical amount fo protein in a western blot https://www.abcam.com/en-us/technical-resources/protocols/western-blot\n",
    "# Assuming that there is 100 ng of Viral protein present\n",
    "Virus_Prot_kDa = np.sum(np.array([0.39215686 * 47, 0.26666667 * 30, 0.18823529* 27, 0.1254902 * 63 , 0.02745098 * 241]))\n",
    "g_vir_prot = 1.0e-7 # 100 ng\n",
    "mol_prot = g_vir_prot/(Virus_Prot_kDa * 1e3)\n",
    "prot_tot = mol_prot * 6.022e23\n",
    "\n"
   ]
  },
  {
   "cell_type": "code",
   "execution_count": null,
   "id": "ddcb7fe6",
   "metadata": {},
   "outputs": [],
   "source": [
    "ng_data = np.array([[0.282, 0.195, 0.252, 0.251, 0.02 ],\n",
    "                    [0.162, 0.118, 0.135, 0.578, 0.007],\n",
    "                    [0.151, 0.271, 0.354, 0.21 , 0.014],\n",
    "                    [0.108, 0.182, 0.284, 0.415, 0.011]]) * prot_tot\n",
    "ng_data = ng_data.astype(int)"
   ]
  },
  {
   "cell_type": "code",
   "execution_count": null,
   "id": "cdf2efcd",
   "metadata": {},
   "outputs": [],
   "source": [
    "# objective function for fitting Start-Stop model\n",
    "def obj_fun(x):\n",
    "    if np.sum(x) > 1:\n",
    "        return np.inf\n",
    "    pred = [1,1,1,1,1]\n",
    "    for i in range(1,5):\n",
    "        pred[i] = pred[i-1] - x[i-1]\n",
    "    lambda_pred = pred/np.sum(pred)\n",
    "    LL = 0\n",
    "    LL += np.sum(scipy.stats.poisson.logpmf(ng_data[0], lambda_pred))\n",
    "    if np.isnan(LL):\n",
    "        return np.inf\n",
    "    return LL * -1"
   ]
  },
  {
   "cell_type": "code",
   "execution_count": null,
   "id": "71b8b794",
   "metadata": {},
   "outputs": [],
   "source": [
    "# fit model\n",
    "res = minimize(obj_fun, [0,0,0,.9] , bounds = [[0, 1]], tol = 1e-20)\n",
    "res"
   ]
  },
  {
   "cell_type": "code",
   "execution_count": null,
   "id": "f14cf932",
   "metadata": {},
   "outputs": [],
   "source": [
    "# get prediction for wildtype\n",
    "pred = [1,1,1,1,1]\n",
    "for i in range(1,5):\n",
    "    pred[i] = pred[i-1] - res.x[i-1]\n",
    "lambda_pred = pred/np.sum(pred)\n",
    "lambda_pred"
   ]
  },
  {
   "cell_type": "code",
   "execution_count": null,
   "id": "7da8c7d1",
   "metadata": {},
   "outputs": [],
   "source": [
    "# calculate LL for Stop-Start model\n",
    "SS_list = []\n",
    "ng_ss_preds = np.array(lambda_pred/np.sum(lambda_pred))[ng_combos - 1]\n",
    "for i in range(0, ng_data.shape[0]):\n",
    "    SS_list.append(np.sum(scipy.stats.poisson.logpmf(ng_data[i], ng_ss_preds[i])))\n",
    "LL_ng_ss = sum(SS_list[1:])\n"
   ]
  },
  {
   "cell_type": "code",
   "execution_count": null,
   "id": "b39170c2",
   "metadata": {},
   "outputs": [],
   "source": [
    "# objective function for fitting ram model\n",
    "def obj_fun(x):\n",
    "    p = x[0]\n",
    "    pred = np.array([p**x for x in ng_lenpos[0]])\n",
    "    lambda_pred = pred/np.sum(pred)\n",
    "    LL = 0\n",
    "    LL += np.sum(scipy.stats.poisson.logpmf(ng_data[0], lambda_pred))\n",
    "    if np.isnan(LL):\n",
    "        return np.inf\n",
    "    return LL * -1"
   ]
  },
  {
   "cell_type": "code",
   "execution_count": null,
   "id": "a166e5b3",
   "metadata": {},
   "outputs": [],
   "source": [
    "p = pd.read_csv(\"Folder1-Parameter_Fits/all_viruses_best_fits.csv\").iloc[0, -3]\n",
    "\n",
    "# fit ram model parameter starting at fit from previous dataset\n",
    "res = minimize(obj_fun,p , bounds = [[0.5, 1]], tol = 1e-20)\n",
    "p1 = res.x[0]\n",
    "p1\n"
   ]
  },
  {
   "cell_type": "code",
   "execution_count": null,
   "id": "10ecf7b3",
   "metadata": {},
   "outputs": [],
   "source": [
    "# calculate log likelihood of RAM model\n",
    "RAM_list = []\n",
    "for i in range(0, ng_data.shape[0]):\n",
    "    labmda_pred = np.array([p1**x for x in ng_lenpos[i]])\n",
    "    labmda_pred = labmda_pred/np.sum(labmda_pred)\n",
    "    RAM_list.append(np.sum(scipy.stats.poisson.logpmf(ng_data[i], labmda_pred)))\n",
    "LL_ng_RAM = sum(RAM_list[1:])"
   ]
  },
  {
   "cell_type": "code",
   "execution_count": null,
   "id": "43496a8e",
   "metadata": {},
   "outputs": [],
   "source": []
  },
  {
   "cell_type": "code",
   "execution_count": null,
   "id": "214dd047",
   "metadata": {},
   "outputs": [],
   "source": [
    "# Generate plots for each varaints\n",
    "\n",
    "variants = [\"NPMGL\", \"GNPML\", \"PMGNL\", \"GPMNL\"]\n",
    "\n",
    "for i in range(len(variants)):\n",
    "    vr = variants[i]\n",
    "    vr_data = ng_data[i]/np.sum(ng_data[i])\n",
    "    ss_pred = ng_ss_preds[i]\n",
    "    RAM_pred = np.array([p1**x for x in ng_lenpos[i]])\n",
    "    RAM_pred = RAM_pred/np.sum(RAM_pred)   \n",
    "    categories = [\"N\", \"P\", \"M\", \"G\", \"L\"]\n",
    "    indices = np.arange(len(categories))\n",
    "    fig, ax = plt.subplots(figsize=(10, 6))\n",
    "    \n",
    "    bar_width = 0.25 \n",
    "\n",
    "    ax.bar(indices, vr_data, width=bar_width, color='#0072B2', edgecolor='black', label='Observed Data')\n",
    "\n",
    "\n",
    "    ax.bar(indices - bar_width, ss_pred, width=bar_width, color='yellow', edgecolor='black', label='Start-Stop Prediction')\n",
    "\n",
    "\n",
    "    ax.bar(indices + bar_width, RAM_pred, width=bar_width, color='red', edgecolor='black', label='RAM Prediction')\n",
    "\n",
    "\n",
    "    ax.tick_params(axis='y', labelsize=18)\n",
    "    \n",
    "    title = f\"Variant 3'-{vr}-5'\"\n",
    "    if i == 0:\n",
    "        title = title + \" (WT)\"\n",
    "    ax.set_title(title, fontsize=28)\n",
    "    ax.set_xticks(indices)\n",
    "    ax.set_xticklabels(categories, fontsize=20)\n",
    "\n",
    "\n",
    "    plt.ylim([0, .6])\n",
    "    \n",
    "    ax.legend(loc='upper left', fontsize=17, frameon=True, shadow=True)\n",
    "    ax.set_ylabel('Relative Expression', fontsize=22)\n",
    "    ax.set_xlabel('Gene', fontsize=22)  \n",
    "    ax.text(.465, 0.675, 'RAM Log Likelihood: {:.3E}'.format(RAM_list[i]) + '\\nStop-Start Log Likelihood: {:.3E}'.format(SS_list[i]) , transform=ax.transAxes, fontsize=15,\n",
    "    verticalalignment='top', horizontalalignment='right', bbox=dict(facecolor='white', alpha=0.8))\n",
    "    plt.tight_layout()\n",
    "    plt.savefig(f\"Figures/Fig4/{vr}_predictions.svg\")\n",
    "    plt.show()\n",
    "        \n",
    "    \n",
    "\n",
    "\n",
    "\n"
   ]
  },
  {
   "cell_type": "code",
   "execution_count": null,
   "id": "4a7ece23",
   "metadata": {},
   "outputs": [],
   "source": [
    "# Print LL in scientific notation\n",
    "print(f\"{LL_ng_RAM:.4e}\")  \n",
    "print(f\"{LL_ng_ss:.4e}\") \n"
   ]
  },
  {
   "cell_type": "code",
   "execution_count": null,
   "id": "446bff66",
   "metadata": {},
   "outputs": [],
   "source": [
    "# Calculate BIC\n",
    "BIC_RAM = (4 * np.log(prot_tot)) - (2 * LL_ng_RAM)\n",
    "BIC_ss = (1 * np.log(prot_tot)) - (2 * LL_ng_ss)\n",
    "print(f\"{BIC_RAM:.4e}\") \n",
    "print(f\"{BIC_ss:.4e}\") \n",
    "\n"
   ]
  },
  {
   "cell_type": "code",
   "execution_count": null,
   "id": "4da9c6a9",
   "metadata": {},
   "outputs": [],
   "source": []
  }
 ],
 "metadata": {
  "kernelspec": {
   "display_name": "Python 3",
   "language": "python",
   "name": "python3"
  },
  "language_info": {
   "codemirror_mode": {
    "name": "ipython",
    "version": 3
   },
   "file_extension": ".py",
   "mimetype": "text/x-python",
   "name": "python",
   "nbconvert_exporter": "python",
   "pygments_lexer": "ipython3",
   "version": "3.8.8"
  }
 },
 "nbformat": 4,
 "nbformat_minor": 5
}
